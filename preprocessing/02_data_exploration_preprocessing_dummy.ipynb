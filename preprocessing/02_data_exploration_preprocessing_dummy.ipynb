{
 "cells": [
  {
   "cell_type": "code",
   "execution_count": null,
   "metadata": {
    "id": "kc4IaHoz2k9j"
   },
   "outputs": [],
   "source": [
    "import random\n",
    "import pandas as pd\n",
    "import numpy as np\n",
    "import seaborn as sns\n",
    "import networkx as nx\n",
    "import matplotlib.pyplot as plt\n",
    "%matplotlib inline"
   ]
  },
  {
   "cell_type": "code",
   "execution_count": null,
   "metadata": {
    "colab": {
     "base_uri": "https://localhost:8080/"
    },
    "id": "uHvxSaOu2k95",
    "outputId": "c9926b0d-8e5c-48ce-d9fd-84091a35decb"
   },
   "outputs": [],
   "source": [
    "from sklearn.preprocessing import LabelEncoder, OneHotEncoder, MinMaxScaler\n",
    "from fancyimpute import KNN, IterativeImputer, SimpleFill, SoftImpute, IterativeSVD, MatrixFactorization, NuclearNormMinimization, BiScaler"
   ]
  },
  {
   "cell_type": "code",
   "execution_count": null,
   "metadata": {
    "id": "vUlvaB7C2k96"
   },
   "outputs": [],
   "source": [
    "SEED = 1\n",
    "random.seed(SEED)\n",
    "np.random.seed(SEED)"
   ]
  },
  {
   "cell_type": "markdown",
   "metadata": {
    "id": "6V1iePHi2k96"
   },
   "source": [
    "## 1. Dataset\n",
    "- training : TrainingWiDS2021.csv\n",
    "- test : UnlabeledWiDS2021.csv\n",
    "- descriptions : DataDictionaryWiDS2021.csv"
   ]
  },
  {
   "cell_type": "code",
   "execution_count": null,
   "metadata": {
    "colab": {
     "base_uri": "https://localhost:8080/"
    },
    "id": "AFGjWIO02n4r",
    "outputId": "b278bb85-cd77-4cc6-b5c7-5c544580f770"
   },
   "outputs": [],
   "source": [
    "from google.colab import drive\n",
    "drive.mount('/content/drive')"
   ]
  },
  {
   "cell_type": "code",
   "execution_count": null,
   "metadata": {
    "colab": {
     "base_uri": "https://localhost:8080/"
    },
    "id": "iKK-k67U2k97",
    "outputId": "5ebfcbc6-7a0f-4ce1-c903-a4b6579815eb"
   },
   "outputs": [],
   "source": [
    "df_tr = pd.read_csv('/content/drive/MyDrive/dataset/WiDS2021/TrainingWiDS2021.csv')\n",
    "df_tr = df_tr.drop(columns=['Unnamed: 0'], inplace=False)\n",
    "df_tr.shape"
   ]
  },
  {
   "cell_type": "code",
   "execution_count": null,
   "metadata": {
    "colab": {
     "base_uri": "https://localhost:8080/"
    },
    "id": "QtElyktH2k98",
    "outputId": "28dd08f1-7c09-4387-c2f0-7d3ec7534201"
   },
   "outputs": [],
   "source": [
    "df_te = pd.read_csv('/content/drive/MyDrive/dataset/WiDS2021/UnlabeledWiDS2021.csv')\n",
    "df_te = df_te.drop(columns=['Unnamed: 0'], inplace=False)\n",
    "df_te.shape"
   ]
  },
  {
   "cell_type": "markdown",
   "metadata": {
    "id": "ag0Qbzs32k99"
   },
   "source": [
    "### 1.1. Drop Columns with high missing ratio\n",
    "\n",
    "- check missing ratio for each column\n",
    "- compare missing ratios between training set and test set\n",
    "- Decise what to drop"
   ]
  },
  {
   "cell_type": "code",
   "execution_count": null,
   "metadata": {
    "id": "Dtc0nd1U2k99"
   },
   "outputs": [],
   "source": [
    "def check_missing_data(df):\n",
    "    # check missing data\n",
    "    missing_df = pd.DataFrame(df.isna().sum().sort_values(ascending=False)).reset_index()\n",
    "    missing_df.columns = ['column_name', 'num_miss_rows']\n",
    "    missing_df['miss_ratio'] = missing_df.num_miss_rows / df.shape[0]\n",
    "\n",
    "    print(missing_df.loc[missing_df.num_miss_rows > 0])\n",
    "\n",
    "    print(missing_df.loc[missing_df.miss_ratio > 0.5])\n",
    "    return missing_df"
   ]
  },
  {
   "cell_type": "code",
   "execution_count": null,
   "metadata": {
    "colab": {
     "base_uri": "https://localhost:8080/"
    },
    "id": "LzjScIJe2k9-",
    "outputId": "7b828a3d-8cfe-4f8e-afd5-2d14ccc5fbb7"
   },
   "outputs": [],
   "source": [
    "tr_missing = check_missing_data(df_tr)"
   ]
  },
  {
   "cell_type": "code",
   "execution_count": null,
   "metadata": {
    "colab": {
     "base_uri": "https://localhost:8080/"
    },
    "id": "2vFBMMTB2k9-",
    "outputId": "c3cd8acf-73fe-4e2a-d9d2-10827436a238"
   },
   "outputs": [],
   "source": [
    "te_missing = check_missing_data(df_te)"
   ]
  },
  {
   "cell_type": "code",
   "execution_count": null,
   "metadata": {
    "colab": {
     "base_uri": "https://localhost:8080/",
     "height": 80
    },
    "id": "LuJoGHSG2k9_",
    "outputId": "85ac8e11-aa97-4b06-f6ee-a32bcea27cb0"
   },
   "outputs": [],
   "source": [
    "# train and test set with same missing ratios?\n",
    "set(tr_missing.loc[tr_missing.miss_ratio > .5].column_name).\\\n",
    "difference(set(te_missing.loc[te_missing.miss_ratio > .5].column_name))\n",
    "\n",
    "set(te_missing.loc[te_missing.miss_ratio > .5].column_name).\\\n",
    "difference(set(tr_missing.loc[tr_missing.miss_ratio > .5].column_name))\n",
    "\n",
    "tr_missing.loc[tr_missing.column_name=='urineoutput_apache']\n",
    "te_missing.loc[tr_missing.column_name=='urineoutput_apache']"
   ]
  },
  {
   "cell_type": "code",
   "execution_count": null,
   "metadata": {
    "colab": {
     "base_uri": "https://localhost:8080/"
    },
    "id": "iy5KsXTh2k9_",
    "outputId": "411f5c4d-d2ed-4f44-c702-90f993377f7a"
   },
   "outputs": [],
   "source": [
    "# since missing ratios are very similar => drop all columns with missing ratio upto 50%\n",
    "drop_columns = te_missing.loc[te_missing.miss_ratio > .5].column_name.values\n",
    "df_tr = df_tr.drop(columns = drop_columns, inplace=False)\n",
    "df_te = df_te.drop(columns = drop_columns, inplace=False)\n",
    "\n",
    "df_tr.shape\n",
    "df_te.shape"
   ]
  },
  {
   "cell_type": "markdown",
   "metadata": {
    "id": "Q8jiv8kv2k-A"
   },
   "source": [
    "### drop hospital_id\n",
    "\n",
    "-due to distribution difference"
   ]
  },
  {
   "cell_type": "code",
   "execution_count": null,
   "metadata": {
    "id": "wdwKIXLp2k-A"
   },
   "outputs": [],
   "source": [
    "df_tr = df_tr.drop(columns=['hospital_id'], inplace=False)\n",
    "df_te = df_te.drop(columns=['hospital_id'], inplace=False)"
   ]
  },
  {
   "cell_type": "markdown",
   "metadata": {
    "id": "usTzEowl2k-A"
   },
   "source": [
    "### Readmission status have 1 unique value for all dataset => drop"
   ]
  },
  {
   "cell_type": "code",
   "execution_count": null,
   "metadata": {
    "colab": {
     "base_uri": "https://localhost:8080/"
    },
    "id": "B5rKnnUx2k-A",
    "outputId": "09df9d36-bdec-40ab-f6c4-54ade907bd48"
   },
   "outputs": [],
   "source": [
    "df_tr.readmission_status.nunique()\n",
    "tr_missing.loc[tr_missing.column_name=='readmission_status']\n",
    "df_tr.readmission_status.unique()\n",
    "df_te.readmission_status.unique()"
   ]
  },
  {
   "cell_type": "code",
   "execution_count": null,
   "metadata": {
    "id": "HcgrkCOV2k-B"
   },
   "outputs": [],
   "source": [
    "df_tr = df_tr.drop(columns=['readmission_status'], inplace=False)\n",
    "df_te = df_te.drop(columns=['readmission_status'], inplace=False)"
   ]
  },
  {
   "cell_type": "markdown",
   "metadata": {
    "id": "oJfCuoBx2k-B"
   },
   "source": [
    "## Combine two"
   ]
  },
  {
   "cell_type": "code",
   "execution_count": null,
   "metadata": {
    "colab": {
     "base_uri": "https://localhost:8080/"
    },
    "id": "eChRlCxv2k-B",
    "outputId": "54691715-aa9f-4605-cf1a-86d1944a9df9"
   },
   "outputs": [],
   "source": [
    "set(df_tr.columns).difference(set(df_te.columns))\n",
    "set(df_te.columns).difference(set(df_tr.columns))"
   ]
  },
  {
   "cell_type": "code",
   "execution_count": null,
   "metadata": {
    "id": "oijIsSIh2k-C"
   },
   "outputs": [],
   "source": [
    "df_te['diabetes_mellitus'] = np.nan\n",
    "df_tr['split_type'] = 'train'\n",
    "df_te['split_type'] = 'test'"
   ]
  },
  {
   "cell_type": "code",
   "execution_count": null,
   "metadata": {
    "colab": {
     "base_uri": "https://localhost:8080/",
     "height": 321
    },
    "id": "HjVK_N342k-C",
    "outputId": "f84b6ec2-eb63-452b-f0a6-a660741fbf01"
   },
   "outputs": [],
   "source": [
    "df_t = pd.concat([df_tr, df_te])\n",
    "df_t.columns\n",
    "df_t.shape\n",
    "df_t.head()"
   ]
  },
  {
   "cell_type": "markdown",
   "metadata": {
    "id": "U51qdeIh2k-C"
   },
   "source": [
    "## Categorical encoding\n",
    "- Label Encoding : assign label to a unique integer\n",
    "- OneHot Encoding : creating dummy variables"
   ]
  },
  {
   "cell_type": "code",
   "execution_count": null,
   "metadata": {
    "colab": {
     "base_uri": "https://localhost:8080/"
    },
    "id": "u1Trkaab2k-D",
    "outputId": "8b39e402-eae1-4c29-f048-6fc490a95e2f"
   },
   "outputs": [],
   "source": [
    "df_t.dtypes.unique()\n",
    "df_t.dtypes.loc[df_tr.dtypes=='O']"
   ]
  },
  {
   "cell_type": "code",
   "execution_count": null,
   "metadata": {
    "colab": {
     "base_uri": "https://localhost:8080/"
    },
    "id": "H6jG1IJr2k-D",
    "outputId": "15918449-414c-4341-fd8c-b6e28302bf8a"
   },
   "outputs": [],
   "source": [
    "cat_cols = list(df_t.dtypes.loc[df_t.dtypes=='O'].index.values)\n",
    "cat_cols.append('apache_2_diagnosis')\n",
    "cat_cols.append('apache_3j_diagnosis')\n",
    "cat_cols.remove('split_type')\n",
    "print(cat_cols)"
   ]
  },
  {
   "cell_type": "code",
   "execution_count": null,
   "metadata": {
    "id": "QDBUY0wO2k-D"
   },
   "outputs": [],
   "source": [
    "df_t = pd.get_dummies(df_t, prefix=cat_cols, columns=cat_cols)"
   ]
  },
  {
   "cell_type": "code",
   "execution_count": null,
   "metadata": {
    "colab": {
     "base_uri": "https://localhost:8080/",
     "height": 253
    },
    "id": "iQlSpFx32k-D",
    "outputId": "4c81974d-9793-4152-c8ff-37c1b240d781"
   },
   "outputs": [],
   "source": [
    "df_t.head()"
   ]
  },
  {
   "cell_type": "code",
   "execution_count": null,
   "metadata": {
    "colab": {
     "base_uri": "https://localhost:8080/"
    },
    "id": "c-esyFfC2k-E",
    "outputId": "2f2b6734-ec93-451c-8ae9-0952700653a1"
   },
   "outputs": [],
   "source": [
    "df_t.columns"
   ]
  },
  {
   "cell_type": "markdown",
   "metadata": {
    "id": "MS38OaTC2k-E"
   },
   "source": [
    "### 2. Data imputation\n",
    "\n",
    "- Possible approaches : mean, KNN, soft_impute, MICE, iterative_SVD"
   ]
  },
  {
   "cell_type": "code",
   "execution_count": null,
   "metadata": {
    "id": "__bLSIPq2k-E"
   },
   "outputs": [],
   "source": [
    "# TODO apply normalized imputation?\n",
    "# SimpleFill, SoftImpute, IterativeSVD, MatrixFactorization, NuclearNormMinimization, BiScaler\n",
    "def impute_data(df_t, impt_type='mice'):\n",
    "    if impt_type =='mice':\n",
    "        imputer = IterativeImputer()\n",
    "    elif impt_type == 'knn':\n",
    "        imputer = KNN()\n",
    "    elif impt_type == 'simple':\n",
    "        imputer = SimpleFill('mean')\n",
    "    return imputer.fit_transform(df_t)"
   ]
  },
  {
   "cell_type": "code",
   "execution_count": null,
   "metadata": {
    "colab": {
     "base_uri": "https://localhost:8080/"
    },
    "id": "m2TWJwPE2k-F",
    "outputId": "9abeb4c5-5d03-4c59-f442-bea26ea45e14"
   },
   "outputs": [],
   "source": [
    "list(filter(lambda x: x.find('split')>=0, df_t.columns))"
   ]
  },
  {
   "cell_type": "code",
   "execution_count": null,
   "metadata": {
    "colab": {
     "base_uri": "https://localhost:8080/"
    },
    "id": "mmWt8iJR2k-F",
    "outputId": "ebb9bed0-fb12-4951-ae76-0292d9ae6a2c"
   },
   "outputs": [],
   "source": [
    "impute_cols = list(df_t.columns.values)\n",
    "impute_cols.remove('diabetes_mellitus')\n",
    "impute_cols.remove('encounter_id')\n",
    "impute_cols.remove('split_type')\n",
    "\n",
    "impt_t = impute_data(df_t[impute_cols], 'mice')"
   ]
  },
  {
   "cell_type": "code",
   "execution_count": null,
   "metadata": {
    "colab": {
     "base_uri": "https://localhost:8080/",
     "height": 253
    },
    "id": "0vvhD0f75fLz",
    "outputId": "c5688f27-49dd-4ef3-febc-a5ac0ebaa901"
   },
   "outputs": [],
   "source": [
    "df_impt_t = pd.DataFrame(impt_t)\n",
    "df_impt_t.columns = impute_cols\n",
    "df_impt_t.head()"
   ]
  },
  {
   "cell_type": "code",
   "execution_count": null,
   "metadata": {
    "colab": {
     "base_uri": "https://localhost:8080/"
    },
    "id": "XqCJoA-h5rzz",
    "outputId": "36b0582c-5dda-4b42-fdd4-65886aa1c363"
   },
   "outputs": [],
   "source": [
    "df_impt_t.shape\n",
    "len(impute_cols)"
   ]
  },
  {
   "cell_type": "code",
   "execution_count": null,
   "metadata": {
    "colab": {
     "base_uri": "https://localhost:8080/",
     "height": 253
    },
    "id": "dBYOoGQW5yg6",
    "outputId": "0d3c6b99-c568-4082-d2df-816febb5db8a"
   },
   "outputs": [],
   "source": [
    "df_impt_t['encounter_id'] = df_t.encounter_id.values\n",
    "df_impt_t['diabetes_mellitus'] = df_t.diabetes_mellitus.values\n",
    "df_impt_t['split_type'] = df_t.split_type.values\n",
    "df_impt_t = df_impt_t.reset_index(inplace=False, drop=True)\n",
    "df_impt_t.head()"
   ]
  },
  {
   "cell_type": "code",
   "execution_count": null,
   "metadata": {
    "id": "QgKSsGwX6aHG"
   },
   "outputs": [],
   "source": [
    "cols = list(df_impt_t.columns)\n",
    "cols.remove('split_type')"
   ]
  },
  {
   "cell_type": "code",
   "execution_count": null,
   "metadata": {
    "colab": {
     "base_uri": "https://localhost:8080/"
    },
    "id": "SomusdTf7D7A",
    "outputId": "a8e1a3b2-027a-45b5-df03-ca6c2ef29087"
   },
   "outputs": [],
   "source": [
    "list(filter(lambda x: x=='split_type', df_impt_t.columns))"
   ]
  },
  {
   "cell_type": "code",
   "execution_count": null,
   "metadata": {
    "id": "JSQ-HGFx61f8"
   },
   "outputs": [],
   "source": [
    "tr = df_impt_t.loc[df_impt_t['split_type']=='train']\n",
    "tr = tr.drop(columns='split_type', inplace=False)\n",
    "\n",
    "te = df_impt_t.loc[df_impt_t['split_type']=='test']\n",
    "te = te.drop(columns=['split_type', 'diabetes_mellitus'], inplace=False)"
   ]
  },
  {
   "cell_type": "code",
   "execution_count": null,
   "metadata": {
    "id": "2gbus03T34ek"
   },
   "outputs": [],
   "source": [
    "tr.to_parquet('/content/drive/MyDrive/dataset/dummy_noscale_train.parquet')\n",
    "te.to_parquet('/content/drive/MyDrive/dataset/dummy_noscale_test.parquet')"
   ]
  },
  {
   "cell_type": "markdown",
   "metadata": {
    "id": "P-f-U9gh2k-F"
   },
   "source": [
    "### 3. Scaling"
   ]
  },
  {
   "cell_type": "code",
   "execution_count": null,
   "metadata": {
    "id": "EJNkMqO22k-G"
   },
   "outputs": [],
   "source": [
    "# TODO : different scalers?\n",
    "def scale_data(mx_t, scl_type='minmax'):\n",
    "    if scl_type == 'minmax':\n",
    "        scaler = MinMaxScaler()\n",
    "    return scaler.fit_transform(mx_t)"
   ]
  },
  {
   "cell_type": "code",
   "execution_count": null,
   "metadata": {
    "id": "E63-imhu2k-G"
   },
   "outputs": [],
   "source": [
    "cols = list(df_impt_t.columns)\n",
    "for cat in ['diabetes_mellitus', 'ethnicity', 'gender', 'hospital_admit_source', 'icu_admit_source', 'icu_stay_type', \n",
    "            'icu_type', 'apache_2_diagnosis', 'apache_3j_diagnosis', 'encounter_id']:\n",
    "    relevent_cols = list(filter(lambda x: x.find(cat)>=0, cols))\n",
    "    print(relevent_cols)\n",
    "    if len(relevent_cols) > 0:\n",
    "        for r in relevent_cols:\n",
    "            cols.remove(r)\n",
    "cols.remove('split_type')\n",
    "df_impt_t[cols]"
   ]
  },
  {
   "cell_type": "code",
   "execution_count": null,
   "metadata": {},
   "outputs": [],
   "source": [
    "sc_impt_t = scale_data(df_impt_t[cols], 'minmax')\n",
    "df_impt_t[cols] = sc_impt_t"
   ]
  },
  {
   "cell_type": "markdown",
   "metadata": {
    "id": "slqz9jXu2k-G"
   },
   "source": [
    "### 4. Save"
   ]
  },
  {
   "cell_type": "code",
   "execution_count": null,
   "metadata": {
    "id": "ADzfonua2k-G"
   },
   "outputs": [],
   "source": [
    "s_tr = df_impt_t.loc[df_impt_t['split_type']=='train']\n",
    "s_tr = s_tr.drop(columns='split_type', inplace=False)\n",
    "\n",
    "s_te = df_impt_t.loc[df_impt_t['split_type']=='test']\n",
    "s_te = s_te.drop(columns=['split_type', 'diabetes_mellitus'], inplace=False)\n",
    "\n",
    "s_tr.to_parquet('../dataset/train_scale_.parquet')\n",
    "s_te.to_parquet('../dataset/test_scale_.parquet')"
   ]
  }
 ],
 "metadata": {
  "accelerator": "GPU",
  "colab": {
   "name": "02_data_exploration_preprocessing_dummy.ipynb",
   "provenance": []
  },
  "kernelspec": {
   "display_name": "Python 3",
   "language": "python",
   "name": "python3"
  },
  "language_info": {
   "codemirror_mode": {
    "name": "ipython",
    "version": 3
   },
   "file_extension": ".py",
   "mimetype": "text/x-python",
   "name": "python",
   "nbconvert_exporter": "python",
   "pygments_lexer": "ipython3",
   "version": "3.7.2"
  }
 },
 "nbformat": 4,
 "nbformat_minor": 1
}
