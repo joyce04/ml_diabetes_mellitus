{
 "cells": [
  {
   "cell_type": "code",
   "execution_count": 36,
   "metadata": {},
   "outputs": [],
   "source": [
    "import random\n",
    "import pandas as pd\n",
    "import numpy as np\n",
    "import seaborn as sns\n",
    "import networkx as nx\n",
    "import matplotlib.pyplot as plt\n",
    "%matplotlib inline"
   ]
  },
  {
   "cell_type": "code",
   "execution_count": 37,
   "metadata": {},
   "outputs": [],
   "source": [
    "from sklearn.preprocessing import LabelEncoder, OneHotEncoder, MinMaxScaler\n",
    "from fancyimpute import KNN, IterativeImputer, SimpleFill, SoftImpute, IterativeSVD, MatrixFactorization, NuclearNormMinimization, BiScaler"
   ]
  },
  {
   "cell_type": "code",
   "execution_count": 38,
   "metadata": {},
   "outputs": [],
   "source": [
    "SEED = 1\n",
    "random.seed(SEED)\n",
    "np.random.seed(SEED)"
   ]
  },
  {
   "cell_type": "markdown",
   "metadata": {},
   "source": [
    "## 1. Dataset\n",
    "- training : TrainingWiDS2021.csv\n",
    "- test : UnlabeledWiDS2021.csv\n",
    "- descriptions : DataDictionaryWiDS2021.csv"
   ]
  },
  {
   "cell_type": "code",
   "execution_count": 39,
   "metadata": {},
   "outputs": [
    {
     "data": {
      "text/plain": [
       "(130157, 180)"
      ]
     },
     "execution_count": 39,
     "metadata": {},
     "output_type": "execute_result"
    }
   ],
   "source": [
    "df_tr = pd.read_csv('../dataset/WiDS2021/TrainingWiDS2021.csv')\n",
    "df_tr = df_tr.drop(columns=['Unnamed: 0'], inplace=False)\n",
    "df_tr.shape"
   ]
  },
  {
   "cell_type": "code",
   "execution_count": 40,
   "metadata": {},
   "outputs": [
    {
     "data": {
      "text/plain": [
       "(10234, 179)"
      ]
     },
     "execution_count": 40,
     "metadata": {},
     "output_type": "execute_result"
    }
   ],
   "source": [
    "df_te = pd.read_csv('../dataset/WiDS2021/UnlabeledWiDS2021.csv')\n",
    "df_te = df_te.drop(columns=['Unnamed: 0'], inplace=False)\n",
    "df_te.shape"
   ]
  },
  {
   "cell_type": "markdown",
   "metadata": {},
   "source": [
    "### 1.1. Drop Columns with high missing ratio\n",
    "\n",
    "- check missing ratio for each column\n",
    "- compare missing ratios between training set and test set\n",
    "- Decise what to drop"
   ]
  },
  {
   "cell_type": "code",
   "execution_count": 41,
   "metadata": {},
   "outputs": [],
   "source": [
    "def check_missing_data(df):\n",
    "    # check missing data\n",
    "    missing_df = pd.DataFrame(df.isna().sum().sort_values(ascending=False)).reset_index()\n",
    "    missing_df.columns = ['column_name', 'num_miss_rows']\n",
    "    missing_df['miss_ratio'] = missing_df.num_miss_rows / df.shape[0]\n",
    "\n",
    "    print(missing_df.loc[missing_df.num_miss_rows > 0])\n",
    "\n",
    "    print(missing_df.loc[missing_df.miss_ratio > 0.5])\n",
    "    return missing_df"
   ]
  },
  {
   "cell_type": "code",
   "execution_count": 42,
   "metadata": {},
   "outputs": [
    {
     "name": "stdout",
     "output_type": "stream",
     "text": [
      "          column_name  num_miss_rows  miss_ratio\n",
      "0    h1_bilirubin_min         119861    0.920896\n",
      "1    h1_bilirubin_max         119861    0.920896\n",
      "2      h1_albumin_min         119005    0.914319\n",
      "3      h1_albumin_max         119005    0.914319\n",
      "4      h1_lactate_max         118467    0.910185\n",
      "..                ...            ...         ...\n",
      "155      d1_sysbp_max            271    0.002082\n",
      "156  d1_heartrate_max            262    0.002013\n",
      "157  d1_heartrate_min            262    0.002013\n",
      "158  icu_admit_source            240    0.001844\n",
      "159            gender             66    0.000507\n",
      "\n",
      "[160 rows x 3 columns]\n",
      "         column_name  num_miss_rows  miss_ratio\n",
      "0   h1_bilirubin_min         119861    0.920896\n",
      "1   h1_bilirubin_max         119861    0.920896\n",
      "2     h1_albumin_min         119005    0.914319\n",
      "3     h1_albumin_max         119005    0.914319\n",
      "4     h1_lactate_max         118467    0.910185\n",
      "..               ...            ...         ...\n",
      "68  d1_bilirubin_max          76735    0.589557\n",
      "69    h1_glucose_max          75073    0.576788\n",
      "70    h1_glucose_min          75073    0.576788\n",
      "71    d1_albumin_min          71406    0.548614\n",
      "72    d1_albumin_max          71406    0.548614\n",
      "\n",
      "[73 rows x 3 columns]\n"
     ]
    }
   ],
   "source": [
    "tr_missing = check_missing_data(df_tr)"
   ]
  },
  {
   "cell_type": "code",
   "execution_count": 43,
   "metadata": {},
   "outputs": [
    {
     "name": "stdout",
     "output_type": "stream",
     "text": [
      "          column_name  num_miss_rows  miss_ratio\n",
      "0      h1_lactate_max           9421    0.920559\n",
      "1      h1_lactate_min           9421    0.920559\n",
      "2    h1_bilirubin_max           9407    0.919191\n",
      "3    h1_bilirubin_min           9407    0.919191\n",
      "4      h1_albumin_min           9365    0.915087\n",
      "..                ...            ...         ...\n",
      "154     d1_diasbp_max             23    0.002247\n",
      "155      d1_sysbp_min             23    0.002247\n",
      "156      d1_sysbp_max             23    0.002247\n",
      "157     d1_diasbp_min             23    0.002247\n",
      "158            gender              5    0.000489\n",
      "\n",
      "[159 rows x 3 columns]\n",
      "           column_name  num_miss_rows  miss_ratio\n",
      "0       h1_lactate_max           9421    0.920559\n",
      "1       h1_lactate_min           9421    0.920559\n",
      "2     h1_bilirubin_max           9407    0.919191\n",
      "3     h1_bilirubin_min           9407    0.919191\n",
      "4       h1_albumin_min           9365    0.915087\n",
      "..                 ...            ...         ...\n",
      "69    d1_bilirubin_min           5860    0.572601\n",
      "70    d1_bilirubin_max           5860    0.572601\n",
      "71      d1_albumin_min           5540    0.541333\n",
      "72      d1_albumin_max           5540    0.541333\n",
      "73  urineoutput_apache           5190    0.507133\n",
      "\n",
      "[74 rows x 3 columns]\n"
     ]
    }
   ],
   "source": [
    "te_missing = check_missing_data(df_te)"
   ]
  },
  {
   "cell_type": "code",
   "execution_count": 44,
   "metadata": {},
   "outputs": [
    {
     "data": {
      "text/plain": [
       "set()"
      ]
     },
     "execution_count": 44,
     "metadata": {},
     "output_type": "execute_result"
    },
    {
     "data": {
      "text/plain": [
       "{'urineoutput_apache'}"
      ]
     },
     "execution_count": 44,
     "metadata": {},
     "output_type": "execute_result"
    },
    {
     "data": {
      "text/html": [
       "<div>\n",
       "<style scoped>\n",
       "    .dataframe tbody tr th:only-of-type {\n",
       "        vertical-align: middle;\n",
       "    }\n",
       "\n",
       "    .dataframe tbody tr th {\n",
       "        vertical-align: top;\n",
       "    }\n",
       "\n",
       "    .dataframe thead th {\n",
       "        text-align: right;\n",
       "    }\n",
       "</style>\n",
       "<table border=\"1\" class=\"dataframe\">\n",
       "  <thead>\n",
       "    <tr style=\"text-align: right;\">\n",
       "      <th></th>\n",
       "      <th>column_name</th>\n",
       "      <th>num_miss_rows</th>\n",
       "      <th>miss_ratio</th>\n",
       "    </tr>\n",
       "  </thead>\n",
       "  <tbody>\n",
       "    <tr>\n",
       "      <th>73</th>\n",
       "      <td>urineoutput_apache</td>\n",
       "      <td>63167</td>\n",
       "      <td>0.485314</td>\n",
       "    </tr>\n",
       "  </tbody>\n",
       "</table>\n",
       "</div>"
      ],
      "text/plain": [
       "           column_name  num_miss_rows  miss_ratio\n",
       "73  urineoutput_apache          63167    0.485314"
      ]
     },
     "execution_count": 44,
     "metadata": {},
     "output_type": "execute_result"
    },
    {
     "data": {
      "text/html": [
       "<div>\n",
       "<style scoped>\n",
       "    .dataframe tbody tr th:only-of-type {\n",
       "        vertical-align: middle;\n",
       "    }\n",
       "\n",
       "    .dataframe tbody tr th {\n",
       "        vertical-align: top;\n",
       "    }\n",
       "\n",
       "    .dataframe thead th {\n",
       "        text-align: right;\n",
       "    }\n",
       "</style>\n",
       "<table border=\"1\" class=\"dataframe\">\n",
       "  <thead>\n",
       "    <tr style=\"text-align: right;\">\n",
       "      <th></th>\n",
       "      <th>column_name</th>\n",
       "      <th>num_miss_rows</th>\n",
       "      <th>miss_ratio</th>\n",
       "    </tr>\n",
       "  </thead>\n",
       "  <tbody>\n",
       "    <tr>\n",
       "      <th>73</th>\n",
       "      <td>urineoutput_apache</td>\n",
       "      <td>5190</td>\n",
       "      <td>0.507133</td>\n",
       "    </tr>\n",
       "  </tbody>\n",
       "</table>\n",
       "</div>"
      ],
      "text/plain": [
       "           column_name  num_miss_rows  miss_ratio\n",
       "73  urineoutput_apache           5190    0.507133"
      ]
     },
     "execution_count": 44,
     "metadata": {},
     "output_type": "execute_result"
    }
   ],
   "source": [
    "# train and test set with same missing ratios?\n",
    "set(tr_missing.loc[tr_missing.miss_ratio > .5].column_name).\\\n",
    "difference(set(te_missing.loc[te_missing.miss_ratio > .5].column_name))\n",
    "\n",
    "set(te_missing.loc[te_missing.miss_ratio > .5].column_name).\\\n",
    "difference(set(tr_missing.loc[tr_missing.miss_ratio > .5].column_name))\n",
    "\n",
    "tr_missing.loc[tr_missing.column_name=='urineoutput_apache']\n",
    "te_missing.loc[tr_missing.column_name=='urineoutput_apache']"
   ]
  },
  {
   "cell_type": "code",
   "execution_count": 45,
   "metadata": {},
   "outputs": [
    {
     "data": {
      "text/plain": [
       "(130157, 106)"
      ]
     },
     "execution_count": 45,
     "metadata": {},
     "output_type": "execute_result"
    },
    {
     "data": {
      "text/plain": [
       "(10234, 105)"
      ]
     },
     "execution_count": 45,
     "metadata": {},
     "output_type": "execute_result"
    }
   ],
   "source": [
    "# since missing ratios are very similar => drop all columns with missing ratio upto 50%\n",
    "drop_columns = te_missing.loc[te_missing.miss_ratio > .5].column_name.values\n",
    "df_tr = df_tr.drop(columns = drop_columns, inplace=False)\n",
    "df_te = df_te.drop(columns = drop_columns, inplace=False)\n",
    "\n",
    "df_tr.shape\n",
    "df_te.shape"
   ]
  },
  {
   "cell_type": "markdown",
   "metadata": {},
   "source": [
    "### drop hospital_id\n",
    "\n",
    "-due to distribution difference"
   ]
  },
  {
   "cell_type": "code",
   "execution_count": 46,
   "metadata": {},
   "outputs": [],
   "source": [
    "df_tr = df_tr.drop(columns=['hospital_id'], inplace=False)\n",
    "df_te = df_te.drop(columns=['hospital_id'], inplace=False)"
   ]
  },
  {
   "cell_type": "markdown",
   "metadata": {},
   "source": [
    "### Readmission status have 1 unique value for all dataset => drop"
   ]
  },
  {
   "cell_type": "code",
   "execution_count": 47,
   "metadata": {},
   "outputs": [
    {
     "data": {
      "text/plain": [
       "1"
      ]
     },
     "execution_count": 47,
     "metadata": {},
     "output_type": "execute_result"
    },
    {
     "data": {
      "text/html": [
       "<div>\n",
       "<style scoped>\n",
       "    .dataframe tbody tr th:only-of-type {\n",
       "        vertical-align: middle;\n",
       "    }\n",
       "\n",
       "    .dataframe tbody tr th {\n",
       "        vertical-align: top;\n",
       "    }\n",
       "\n",
       "    .dataframe thead th {\n",
       "        text-align: right;\n",
       "    }\n",
       "</style>\n",
       "<table border=\"1\" class=\"dataframe\">\n",
       "  <thead>\n",
       "    <tr style=\"text-align: right;\">\n",
       "      <th></th>\n",
       "      <th>column_name</th>\n",
       "      <th>num_miss_rows</th>\n",
       "      <th>miss_ratio</th>\n",
       "    </tr>\n",
       "  </thead>\n",
       "  <tbody>\n",
       "    <tr>\n",
       "      <th>167</th>\n",
       "      <td>readmission_status</td>\n",
       "      <td>0</td>\n",
       "      <td>0.0</td>\n",
       "    </tr>\n",
       "  </tbody>\n",
       "</table>\n",
       "</div>"
      ],
      "text/plain": [
       "            column_name  num_miss_rows  miss_ratio\n",
       "167  readmission_status              0         0.0"
      ]
     },
     "execution_count": 47,
     "metadata": {},
     "output_type": "execute_result"
    },
    {
     "data": {
      "text/plain": [
       "array([0])"
      ]
     },
     "execution_count": 47,
     "metadata": {},
     "output_type": "execute_result"
    },
    {
     "data": {
      "text/plain": [
       "array([0])"
      ]
     },
     "execution_count": 47,
     "metadata": {},
     "output_type": "execute_result"
    }
   ],
   "source": [
    "df_tr.readmission_status.nunique()\n",
    "tr_missing.loc[tr_missing.column_name=='readmission_status']\n",
    "df_tr.readmission_status.unique()\n",
    "df_te.readmission_status.unique()"
   ]
  },
  {
   "cell_type": "code",
   "execution_count": 48,
   "metadata": {},
   "outputs": [],
   "source": [
    "df_tr = df_tr.drop(columns=['readmission_status'], inplace=False)\n",
    "df_te = df_te.drop(columns=['readmission_status'], inplace=False)"
   ]
  },
  {
   "cell_type": "markdown",
   "metadata": {},
   "source": [
    "## Combine two"
   ]
  },
  {
   "cell_type": "code",
   "execution_count": 49,
   "metadata": {},
   "outputs": [
    {
     "data": {
      "text/plain": [
       "{'diabetes_mellitus'}"
      ]
     },
     "execution_count": 49,
     "metadata": {},
     "output_type": "execute_result"
    },
    {
     "data": {
      "text/plain": [
       "set()"
      ]
     },
     "execution_count": 49,
     "metadata": {},
     "output_type": "execute_result"
    }
   ],
   "source": [
    "set(df_tr.columns).difference(set(df_te.columns))\n",
    "set(df_te.columns).difference(set(df_tr.columns))"
   ]
  },
  {
   "cell_type": "code",
   "execution_count": 50,
   "metadata": {},
   "outputs": [],
   "source": [
    "df_te['diabetes_mellitus'] = np.nan\n",
    "df_tr['split_type'] = 'train'\n",
    "df_te['split_type'] = 'test'"
   ]
  },
  {
   "cell_type": "code",
   "execution_count": 51,
   "metadata": {},
   "outputs": [
    {
     "data": {
      "text/plain": [
       "Index(['encounter_id', 'age', 'bmi', 'elective_surgery', 'ethnicity', 'gender',\n",
       "       'height', 'hospital_admit_source', 'icu_admit_source', 'icu_id',\n",
       "       ...\n",
       "       'd1_wbc_min', 'aids', 'cirrhosis', 'hepatic_failure',\n",
       "       'immunosuppression', 'leukemia', 'lymphoma',\n",
       "       'solid_tumor_with_metastasis', 'diabetes_mellitus', 'split_type'],\n",
       "      dtype='object', length=105)"
      ]
     },
     "execution_count": 51,
     "metadata": {},
     "output_type": "execute_result"
    },
    {
     "data": {
      "text/plain": [
       "(140391, 105)"
      ]
     },
     "execution_count": 51,
     "metadata": {},
     "output_type": "execute_result"
    },
    {
     "data": {
      "text/html": [
       "<div>\n",
       "<style scoped>\n",
       "    .dataframe tbody tr th:only-of-type {\n",
       "        vertical-align: middle;\n",
       "    }\n",
       "\n",
       "    .dataframe tbody tr th {\n",
       "        vertical-align: top;\n",
       "    }\n",
       "\n",
       "    .dataframe thead th {\n",
       "        text-align: right;\n",
       "    }\n",
       "</style>\n",
       "<table border=\"1\" class=\"dataframe\">\n",
       "  <thead>\n",
       "    <tr style=\"text-align: right;\">\n",
       "      <th></th>\n",
       "      <th>encounter_id</th>\n",
       "      <th>age</th>\n",
       "      <th>bmi</th>\n",
       "      <th>elective_surgery</th>\n",
       "      <th>ethnicity</th>\n",
       "      <th>gender</th>\n",
       "      <th>height</th>\n",
       "      <th>hospital_admit_source</th>\n",
       "      <th>icu_admit_source</th>\n",
       "      <th>icu_id</th>\n",
       "      <th>icu_stay_type</th>\n",
       "      <th>icu_type</th>\n",
       "      <th>pre_icu_los_days</th>\n",
       "      <th>weight</th>\n",
       "      <th>apache_2_diagnosis</th>\n",
       "      <th>...</th>\n",
       "      <th>d1_potassium_max</th>\n",
       "      <th>d1_potassium_min</th>\n",
       "      <th>d1_sodium_max</th>\n",
       "      <th>d1_sodium_min</th>\n",
       "      <th>d1_wbc_max</th>\n",
       "      <th>d1_wbc_min</th>\n",
       "      <th>aids</th>\n",
       "      <th>cirrhosis</th>\n",
       "      <th>hepatic_failure</th>\n",
       "      <th>immunosuppression</th>\n",
       "      <th>leukemia</th>\n",
       "      <th>lymphoma</th>\n",
       "      <th>solid_tumor_with_metastasis</th>\n",
       "      <th>diabetes_mellitus</th>\n",
       "      <th>split_type</th>\n",
       "    </tr>\n",
       "  </thead>\n",
       "  <tbody>\n",
       "    <tr>\n",
       "      <th>0</th>\n",
       "      <td>214826</td>\n",
       "      <td>68.0</td>\n",
       "      <td>22.732803</td>\n",
       "      <td>0</td>\n",
       "      <td>Caucasian</td>\n",
       "      <td>M</td>\n",
       "      <td>180.3</td>\n",
       "      <td>Floor</td>\n",
       "      <td>Floor</td>\n",
       "      <td>92</td>\n",
       "      <td>admit</td>\n",
       "      <td>CTICU</td>\n",
       "      <td>0.541667</td>\n",
       "      <td>73.9</td>\n",
       "      <td>113.0</td>\n",
       "      <td>...</td>\n",
       "      <td>4.0</td>\n",
       "      <td>3.4</td>\n",
       "      <td>136.0</td>\n",
       "      <td>134.0</td>\n",
       "      <td>14.1</td>\n",
       "      <td>14.1</td>\n",
       "      <td>0</td>\n",
       "      <td>0</td>\n",
       "      <td>0</td>\n",
       "      <td>0</td>\n",
       "      <td>0</td>\n",
       "      <td>0</td>\n",
       "      <td>0</td>\n",
       "      <td>1.0</td>\n",
       "      <td>train</td>\n",
       "    </tr>\n",
       "    <tr>\n",
       "      <th>1</th>\n",
       "      <td>246060</td>\n",
       "      <td>77.0</td>\n",
       "      <td>27.421875</td>\n",
       "      <td>0</td>\n",
       "      <td>Caucasian</td>\n",
       "      <td>F</td>\n",
       "      <td>160.0</td>\n",
       "      <td>Floor</td>\n",
       "      <td>Floor</td>\n",
       "      <td>90</td>\n",
       "      <td>admit</td>\n",
       "      <td>Med-Surg ICU</td>\n",
       "      <td>0.927778</td>\n",
       "      <td>70.2</td>\n",
       "      <td>108.0</td>\n",
       "      <td>...</td>\n",
       "      <td>4.2</td>\n",
       "      <td>3.8</td>\n",
       "      <td>145.0</td>\n",
       "      <td>145.0</td>\n",
       "      <td>23.3</td>\n",
       "      <td>12.7</td>\n",
       "      <td>0</td>\n",
       "      <td>0</td>\n",
       "      <td>0</td>\n",
       "      <td>0</td>\n",
       "      <td>0</td>\n",
       "      <td>0</td>\n",
       "      <td>0</td>\n",
       "      <td>1.0</td>\n",
       "      <td>train</td>\n",
       "    </tr>\n",
       "    <tr>\n",
       "      <th>2</th>\n",
       "      <td>276985</td>\n",
       "      <td>25.0</td>\n",
       "      <td>31.952749</td>\n",
       "      <td>0</td>\n",
       "      <td>Caucasian</td>\n",
       "      <td>F</td>\n",
       "      <td>172.7</td>\n",
       "      <td>Emergency Department</td>\n",
       "      <td>Accident &amp; Emergency</td>\n",
       "      <td>93</td>\n",
       "      <td>admit</td>\n",
       "      <td>Med-Surg ICU</td>\n",
       "      <td>0.000694</td>\n",
       "      <td>95.3</td>\n",
       "      <td>122.0</td>\n",
       "      <td>...</td>\n",
       "      <td>NaN</td>\n",
       "      <td>NaN</td>\n",
       "      <td>NaN</td>\n",
       "      <td>NaN</td>\n",
       "      <td>NaN</td>\n",
       "      <td>NaN</td>\n",
       "      <td>0</td>\n",
       "      <td>0</td>\n",
       "      <td>0</td>\n",
       "      <td>0</td>\n",
       "      <td>0</td>\n",
       "      <td>0</td>\n",
       "      <td>0</td>\n",
       "      <td>0.0</td>\n",
       "      <td>train</td>\n",
       "    </tr>\n",
       "    <tr>\n",
       "      <th>3</th>\n",
       "      <td>262220</td>\n",
       "      <td>81.0</td>\n",
       "      <td>22.635548</td>\n",
       "      <td>1</td>\n",
       "      <td>Caucasian</td>\n",
       "      <td>F</td>\n",
       "      <td>165.1</td>\n",
       "      <td>Operating Room</td>\n",
       "      <td>Operating Room / Recovery</td>\n",
       "      <td>92</td>\n",
       "      <td>admit</td>\n",
       "      <td>CTICU</td>\n",
       "      <td>0.000694</td>\n",
       "      <td>61.7</td>\n",
       "      <td>203.0</td>\n",
       "      <td>...</td>\n",
       "      <td>5.0</td>\n",
       "      <td>3.5</td>\n",
       "      <td>NaN</td>\n",
       "      <td>NaN</td>\n",
       "      <td>9.0</td>\n",
       "      <td>8.0</td>\n",
       "      <td>0</td>\n",
       "      <td>0</td>\n",
       "      <td>0</td>\n",
       "      <td>0</td>\n",
       "      <td>0</td>\n",
       "      <td>0</td>\n",
       "      <td>0</td>\n",
       "      <td>0.0</td>\n",
       "      <td>train</td>\n",
       "    </tr>\n",
       "    <tr>\n",
       "      <th>4</th>\n",
       "      <td>201746</td>\n",
       "      <td>19.0</td>\n",
       "      <td>NaN</td>\n",
       "      <td>0</td>\n",
       "      <td>Caucasian</td>\n",
       "      <td>M</td>\n",
       "      <td>188.0</td>\n",
       "      <td>NaN</td>\n",
       "      <td>Accident &amp; Emergency</td>\n",
       "      <td>91</td>\n",
       "      <td>admit</td>\n",
       "      <td>Med-Surg ICU</td>\n",
       "      <td>0.073611</td>\n",
       "      <td>NaN</td>\n",
       "      <td>119.0</td>\n",
       "      <td>...</td>\n",
       "      <td>NaN</td>\n",
       "      <td>NaN</td>\n",
       "      <td>NaN</td>\n",
       "      <td>NaN</td>\n",
       "      <td>NaN</td>\n",
       "      <td>NaN</td>\n",
       "      <td>0</td>\n",
       "      <td>0</td>\n",
       "      <td>0</td>\n",
       "      <td>0</td>\n",
       "      <td>0</td>\n",
       "      <td>0</td>\n",
       "      <td>0</td>\n",
       "      <td>0.0</td>\n",
       "      <td>train</td>\n",
       "    </tr>\n",
       "  </tbody>\n",
       "</table>\n",
       "<p>5 rows × 105 columns</p>\n",
       "</div>"
      ],
      "text/plain": [
       "   encounter_id   age        bmi  elective_surgery  ethnicity gender  height  \\\n",
       "0        214826  68.0  22.732803                 0  Caucasian      M   180.3   \n",
       "1        246060  77.0  27.421875                 0  Caucasian      F   160.0   \n",
       "2        276985  25.0  31.952749                 0  Caucasian      F   172.7   \n",
       "3        262220  81.0  22.635548                 1  Caucasian      F   165.1   \n",
       "4        201746  19.0        NaN                 0  Caucasian      M   188.0   \n",
       "\n",
       "  hospital_admit_source           icu_admit_source  icu_id icu_stay_type  \\\n",
       "0                 Floor                      Floor      92         admit   \n",
       "1                 Floor                      Floor      90         admit   \n",
       "2  Emergency Department       Accident & Emergency      93         admit   \n",
       "3        Operating Room  Operating Room / Recovery      92         admit   \n",
       "4                   NaN       Accident & Emergency      91         admit   \n",
       "\n",
       "       icu_type  pre_icu_los_days  weight  apache_2_diagnosis  ...  \\\n",
       "0         CTICU          0.541667    73.9               113.0  ...   \n",
       "1  Med-Surg ICU          0.927778    70.2               108.0  ...   \n",
       "2  Med-Surg ICU          0.000694    95.3               122.0  ...   \n",
       "3         CTICU          0.000694    61.7               203.0  ...   \n",
       "4  Med-Surg ICU          0.073611     NaN               119.0  ...   \n",
       "\n",
       "   d1_potassium_max  d1_potassium_min  d1_sodium_max  d1_sodium_min  \\\n",
       "0               4.0               3.4          136.0          134.0   \n",
       "1               4.2               3.8          145.0          145.0   \n",
       "2               NaN               NaN            NaN            NaN   \n",
       "3               5.0               3.5            NaN            NaN   \n",
       "4               NaN               NaN            NaN            NaN   \n",
       "\n",
       "   d1_wbc_max  d1_wbc_min  aids  cirrhosis  hepatic_failure  \\\n",
       "0        14.1        14.1     0          0                0   \n",
       "1        23.3        12.7     0          0                0   \n",
       "2         NaN         NaN     0          0                0   \n",
       "3         9.0         8.0     0          0                0   \n",
       "4         NaN         NaN     0          0                0   \n",
       "\n",
       "   immunosuppression  leukemia  lymphoma  solid_tumor_with_metastasis  \\\n",
       "0                  0         0         0                            0   \n",
       "1                  0         0         0                            0   \n",
       "2                  0         0         0                            0   \n",
       "3                  0         0         0                            0   \n",
       "4                  0         0         0                            0   \n",
       "\n",
       "   diabetes_mellitus  split_type  \n",
       "0                1.0       train  \n",
       "1                1.0       train  \n",
       "2                0.0       train  \n",
       "3                0.0       train  \n",
       "4                0.0       train  \n",
       "\n",
       "[5 rows x 105 columns]"
      ]
     },
     "execution_count": 51,
     "metadata": {},
     "output_type": "execute_result"
    }
   ],
   "source": [
    "df_t = pd.concat([df_tr, df_te])\n",
    "df_t.columns\n",
    "df_t.shape\n",
    "df_t.head()"
   ]
  },
  {
   "cell_type": "markdown",
   "metadata": {},
   "source": [
    "## Categorical encoding\n",
    "- Label Encoding : assign label to a unique integer\n",
    "- OneHot Encoding : creating dummy variables"
   ]
  },
  {
   "cell_type": "code",
   "execution_count": 52,
   "metadata": {},
   "outputs": [
    {
     "data": {
      "text/plain": [
       "array([dtype('int64'), dtype('float64'), dtype('O')], dtype=object)"
      ]
     },
     "execution_count": 52,
     "metadata": {},
     "output_type": "execute_result"
    },
    {
     "data": {
      "text/plain": [
       "ethnicity                object\n",
       "gender                   object\n",
       "hospital_admit_source    object\n",
       "icu_admit_source         object\n",
       "icu_stay_type            object\n",
       "icu_type                 object\n",
       "split_type               object\n",
       "dtype: object"
      ]
     },
     "execution_count": 52,
     "metadata": {},
     "output_type": "execute_result"
    }
   ],
   "source": [
    "df_t.dtypes.unique()\n",
    "df_t.dtypes.loc[df_tr.dtypes=='O']"
   ]
  },
  {
   "cell_type": "code",
   "execution_count": 53,
   "metadata": {},
   "outputs": [
    {
     "name": "stdout",
     "output_type": "stream",
     "text": [
      "['ethnicity', 'gender', 'hospital_admit_source', 'icu_admit_source', 'icu_stay_type', 'icu_type', 'apache_2_diagnosis', 'apache_3j_diagnosis']\n"
     ]
    }
   ],
   "source": [
    "cat_cols = list(df_t.dtypes.loc[df_t.dtypes=='O'].index.values)\n",
    "cat_cols.append('apache_2_diagnosis')\n",
    "cat_cols.append('apache_3j_diagnosis')\n",
    "cat_cols.remove('split_type')\n",
    "print(cat_cols)"
   ]
  },
  {
   "cell_type": "code",
   "execution_count": 54,
   "metadata": {},
   "outputs": [],
   "source": [
    "df_t = pd.get_dummies(df_t, prefix=cat_cols, columns=cat_cols)"
   ]
  },
  {
   "cell_type": "code",
   "execution_count": 55,
   "metadata": {},
   "outputs": [
    {
     "data": {
      "text/html": [
       "<div>\n",
       "<style scoped>\n",
       "    .dataframe tbody tr th:only-of-type {\n",
       "        vertical-align: middle;\n",
       "    }\n",
       "\n",
       "    .dataframe tbody tr th {\n",
       "        vertical-align: top;\n",
       "    }\n",
       "\n",
       "    .dataframe thead th {\n",
       "        text-align: right;\n",
       "    }\n",
       "</style>\n",
       "<table border=\"1\" class=\"dataframe\">\n",
       "  <thead>\n",
       "    <tr style=\"text-align: right;\">\n",
       "      <th></th>\n",
       "      <th>encounter_id</th>\n",
       "      <th>age</th>\n",
       "      <th>bmi</th>\n",
       "      <th>elective_surgery</th>\n",
       "      <th>height</th>\n",
       "      <th>icu_id</th>\n",
       "      <th>pre_icu_los_days</th>\n",
       "      <th>weight</th>\n",
       "      <th>apache_post_operative</th>\n",
       "      <th>arf_apache</th>\n",
       "      <th>bun_apache</th>\n",
       "      <th>creatinine_apache</th>\n",
       "      <th>gcs_eyes_apache</th>\n",
       "      <th>gcs_motor_apache</th>\n",
       "      <th>gcs_unable_apache</th>\n",
       "      <th>...</th>\n",
       "      <th>apache_3j_diagnosis_1902.02</th>\n",
       "      <th>apache_3j_diagnosis_1902.03</th>\n",
       "      <th>apache_3j_diagnosis_1902.04</th>\n",
       "      <th>apache_3j_diagnosis_1902.05</th>\n",
       "      <th>apache_3j_diagnosis_1903.01</th>\n",
       "      <th>apache_3j_diagnosis_1903.02</th>\n",
       "      <th>apache_3j_diagnosis_1903.03</th>\n",
       "      <th>apache_3j_diagnosis_1904.01</th>\n",
       "      <th>apache_3j_diagnosis_2101.01</th>\n",
       "      <th>apache_3j_diagnosis_2101.03</th>\n",
       "      <th>apache_3j_diagnosis_2201.01</th>\n",
       "      <th>apache_3j_diagnosis_2201.02</th>\n",
       "      <th>apache_3j_diagnosis_2201.03</th>\n",
       "      <th>apache_3j_diagnosis_2201.04</th>\n",
       "      <th>apache_3j_diagnosis_2201.05</th>\n",
       "    </tr>\n",
       "  </thead>\n",
       "  <tbody>\n",
       "    <tr>\n",
       "      <th>0</th>\n",
       "      <td>214826</td>\n",
       "      <td>68.0</td>\n",
       "      <td>22.732803</td>\n",
       "      <td>0</td>\n",
       "      <td>180.3</td>\n",
       "      <td>92</td>\n",
       "      <td>0.541667</td>\n",
       "      <td>73.9</td>\n",
       "      <td>0</td>\n",
       "      <td>0</td>\n",
       "      <td>31.0</td>\n",
       "      <td>2.51</td>\n",
       "      <td>3.0</td>\n",
       "      <td>6.0</td>\n",
       "      <td>0.0</td>\n",
       "      <td>...</td>\n",
       "      <td>0</td>\n",
       "      <td>0</td>\n",
       "      <td>0</td>\n",
       "      <td>0</td>\n",
       "      <td>0</td>\n",
       "      <td>0</td>\n",
       "      <td>0</td>\n",
       "      <td>0</td>\n",
       "      <td>0</td>\n",
       "      <td>0</td>\n",
       "      <td>0</td>\n",
       "      <td>0</td>\n",
       "      <td>0</td>\n",
       "      <td>0</td>\n",
       "      <td>0</td>\n",
       "    </tr>\n",
       "    <tr>\n",
       "      <th>1</th>\n",
       "      <td>246060</td>\n",
       "      <td>77.0</td>\n",
       "      <td>27.421875</td>\n",
       "      <td>0</td>\n",
       "      <td>160.0</td>\n",
       "      <td>90</td>\n",
       "      <td>0.927778</td>\n",
       "      <td>70.2</td>\n",
       "      <td>0</td>\n",
       "      <td>0</td>\n",
       "      <td>9.0</td>\n",
       "      <td>0.56</td>\n",
       "      <td>1.0</td>\n",
       "      <td>3.0</td>\n",
       "      <td>0.0</td>\n",
       "      <td>...</td>\n",
       "      <td>0</td>\n",
       "      <td>0</td>\n",
       "      <td>0</td>\n",
       "      <td>0</td>\n",
       "      <td>0</td>\n",
       "      <td>0</td>\n",
       "      <td>0</td>\n",
       "      <td>0</td>\n",
       "      <td>0</td>\n",
       "      <td>0</td>\n",
       "      <td>0</td>\n",
       "      <td>0</td>\n",
       "      <td>0</td>\n",
       "      <td>0</td>\n",
       "      <td>0</td>\n",
       "    </tr>\n",
       "    <tr>\n",
       "      <th>2</th>\n",
       "      <td>276985</td>\n",
       "      <td>25.0</td>\n",
       "      <td>31.952749</td>\n",
       "      <td>0</td>\n",
       "      <td>172.7</td>\n",
       "      <td>93</td>\n",
       "      <td>0.000694</td>\n",
       "      <td>95.3</td>\n",
       "      <td>0</td>\n",
       "      <td>0</td>\n",
       "      <td>NaN</td>\n",
       "      <td>NaN</td>\n",
       "      <td>3.0</td>\n",
       "      <td>6.0</td>\n",
       "      <td>0.0</td>\n",
       "      <td>...</td>\n",
       "      <td>0</td>\n",
       "      <td>0</td>\n",
       "      <td>0</td>\n",
       "      <td>0</td>\n",
       "      <td>0</td>\n",
       "      <td>0</td>\n",
       "      <td>0</td>\n",
       "      <td>0</td>\n",
       "      <td>0</td>\n",
       "      <td>0</td>\n",
       "      <td>0</td>\n",
       "      <td>0</td>\n",
       "      <td>0</td>\n",
       "      <td>0</td>\n",
       "      <td>0</td>\n",
       "    </tr>\n",
       "    <tr>\n",
       "      <th>3</th>\n",
       "      <td>262220</td>\n",
       "      <td>81.0</td>\n",
       "      <td>22.635548</td>\n",
       "      <td>1</td>\n",
       "      <td>165.1</td>\n",
       "      <td>92</td>\n",
       "      <td>0.000694</td>\n",
       "      <td>61.7</td>\n",
       "      <td>1</td>\n",
       "      <td>0</td>\n",
       "      <td>NaN</td>\n",
       "      <td>NaN</td>\n",
       "      <td>4.0</td>\n",
       "      <td>6.0</td>\n",
       "      <td>0.0</td>\n",
       "      <td>...</td>\n",
       "      <td>0</td>\n",
       "      <td>0</td>\n",
       "      <td>0</td>\n",
       "      <td>0</td>\n",
       "      <td>0</td>\n",
       "      <td>0</td>\n",
       "      <td>0</td>\n",
       "      <td>0</td>\n",
       "      <td>0</td>\n",
       "      <td>0</td>\n",
       "      <td>0</td>\n",
       "      <td>0</td>\n",
       "      <td>0</td>\n",
       "      <td>0</td>\n",
       "      <td>0</td>\n",
       "    </tr>\n",
       "    <tr>\n",
       "      <th>4</th>\n",
       "      <td>201746</td>\n",
       "      <td>19.0</td>\n",
       "      <td>NaN</td>\n",
       "      <td>0</td>\n",
       "      <td>188.0</td>\n",
       "      <td>91</td>\n",
       "      <td>0.073611</td>\n",
       "      <td>NaN</td>\n",
       "      <td>0</td>\n",
       "      <td>0</td>\n",
       "      <td>NaN</td>\n",
       "      <td>NaN</td>\n",
       "      <td>NaN</td>\n",
       "      <td>NaN</td>\n",
       "      <td>NaN</td>\n",
       "      <td>...</td>\n",
       "      <td>0</td>\n",
       "      <td>0</td>\n",
       "      <td>0</td>\n",
       "      <td>0</td>\n",
       "      <td>0</td>\n",
       "      <td>0</td>\n",
       "      <td>0</td>\n",
       "      <td>0</td>\n",
       "      <td>0</td>\n",
       "      <td>0</td>\n",
       "      <td>0</td>\n",
       "      <td>0</td>\n",
       "      <td>0</td>\n",
       "      <td>0</td>\n",
       "      <td>0</td>\n",
       "    </tr>\n",
       "  </tbody>\n",
       "</table>\n",
       "<p>5 rows × 582 columns</p>\n",
       "</div>"
      ],
      "text/plain": [
       "   encounter_id   age        bmi  elective_surgery  height  icu_id  \\\n",
       "0        214826  68.0  22.732803                 0   180.3      92   \n",
       "1        246060  77.0  27.421875                 0   160.0      90   \n",
       "2        276985  25.0  31.952749                 0   172.7      93   \n",
       "3        262220  81.0  22.635548                 1   165.1      92   \n",
       "4        201746  19.0        NaN                 0   188.0      91   \n",
       "\n",
       "   pre_icu_los_days  weight  apache_post_operative  arf_apache  bun_apache  \\\n",
       "0          0.541667    73.9                      0           0        31.0   \n",
       "1          0.927778    70.2                      0           0         9.0   \n",
       "2          0.000694    95.3                      0           0         NaN   \n",
       "3          0.000694    61.7                      1           0         NaN   \n",
       "4          0.073611     NaN                      0           0         NaN   \n",
       "\n",
       "   creatinine_apache  gcs_eyes_apache  gcs_motor_apache  gcs_unable_apache  \\\n",
       "0               2.51              3.0               6.0                0.0   \n",
       "1               0.56              1.0               3.0                0.0   \n",
       "2                NaN              3.0               6.0                0.0   \n",
       "3                NaN              4.0               6.0                0.0   \n",
       "4                NaN              NaN               NaN                NaN   \n",
       "\n",
       "   ...  apache_3j_diagnosis_1902.02  apache_3j_diagnosis_1902.03  \\\n",
       "0  ...                            0                            0   \n",
       "1  ...                            0                            0   \n",
       "2  ...                            0                            0   \n",
       "3  ...                            0                            0   \n",
       "4  ...                            0                            0   \n",
       "\n",
       "   apache_3j_diagnosis_1902.04  apache_3j_diagnosis_1902.05  \\\n",
       "0                            0                            0   \n",
       "1                            0                            0   \n",
       "2                            0                            0   \n",
       "3                            0                            0   \n",
       "4                            0                            0   \n",
       "\n",
       "   apache_3j_diagnosis_1903.01  apache_3j_diagnosis_1903.02  \\\n",
       "0                            0                            0   \n",
       "1                            0                            0   \n",
       "2                            0                            0   \n",
       "3                            0                            0   \n",
       "4                            0                            0   \n",
       "\n",
       "   apache_3j_diagnosis_1903.03  apache_3j_diagnosis_1904.01  \\\n",
       "0                            0                            0   \n",
       "1                            0                            0   \n",
       "2                            0                            0   \n",
       "3                            0                            0   \n",
       "4                            0                            0   \n",
       "\n",
       "   apache_3j_diagnosis_2101.01  apache_3j_diagnosis_2101.03  \\\n",
       "0                            0                            0   \n",
       "1                            0                            0   \n",
       "2                            0                            0   \n",
       "3                            0                            0   \n",
       "4                            0                            0   \n",
       "\n",
       "   apache_3j_diagnosis_2201.01  apache_3j_diagnosis_2201.02  \\\n",
       "0                            0                            0   \n",
       "1                            0                            0   \n",
       "2                            0                            0   \n",
       "3                            0                            0   \n",
       "4                            0                            0   \n",
       "\n",
       "   apache_3j_diagnosis_2201.03  apache_3j_diagnosis_2201.04  \\\n",
       "0                            0                            0   \n",
       "1                            0                            0   \n",
       "2                            0                            0   \n",
       "3                            0                            0   \n",
       "4                            0                            0   \n",
       "\n",
       "   apache_3j_diagnosis_2201.05  \n",
       "0                            0  \n",
       "1                            0  \n",
       "2                            0  \n",
       "3                            0  \n",
       "4                            0  \n",
       "\n",
       "[5 rows x 582 columns]"
      ]
     },
     "execution_count": 55,
     "metadata": {},
     "output_type": "execute_result"
    }
   ],
   "source": [
    "df_t.head()"
   ]
  },
  {
   "cell_type": "code",
   "execution_count": 56,
   "metadata": {},
   "outputs": [
    {
     "data": {
      "text/plain": [
       "Index(['encounter_id', 'age', 'bmi', 'elective_surgery', 'height', 'icu_id',\n",
       "       'pre_icu_los_days', 'weight', 'apache_post_operative', 'arf_apache',\n",
       "       ...\n",
       "       'apache_3j_diagnosis_1903.02', 'apache_3j_diagnosis_1903.03',\n",
       "       'apache_3j_diagnosis_1904.01', 'apache_3j_diagnosis_2101.01',\n",
       "       'apache_3j_diagnosis_2101.03', 'apache_3j_diagnosis_2201.01',\n",
       "       'apache_3j_diagnosis_2201.02', 'apache_3j_diagnosis_2201.03',\n",
       "       'apache_3j_diagnosis_2201.04', 'apache_3j_diagnosis_2201.05'],\n",
       "      dtype='object', length=582)"
      ]
     },
     "execution_count": 56,
     "metadata": {},
     "output_type": "execute_result"
    }
   ],
   "source": [
    "df_t.columns"
   ]
  },
  {
   "cell_type": "markdown",
   "metadata": {},
   "source": [
    "### 2. Data imputation\n",
    "\n",
    "- Possible approaches : mean, KNN, soft_impute, MICE, iterative_SVD"
   ]
  },
  {
   "cell_type": "code",
   "execution_count": 57,
   "metadata": {},
   "outputs": [],
   "source": [
    "# TODO apply normalized imputation?\n",
    "# SimpleFill, SoftImpute, IterativeSVD, MatrixFactorization, NuclearNormMinimization, BiScaler\n",
    "def impute_data(df_t, impt_type='mice'):\n",
    "    if impt_type =='mice':\n",
    "        imputer = IterativeImputer()\n",
    "    elif impt_type == 'knn':\n",
    "        imputer = KNN()\n",
    "    return imputer.fit_transform(df_t)"
   ]
  },
  {
   "cell_type": "code",
   "execution_count": 58,
   "metadata": {},
   "outputs": [
    {
     "data": {
      "text/plain": [
       "['split_type']"
      ]
     },
     "execution_count": 58,
     "metadata": {},
     "output_type": "execute_result"
    }
   ],
   "source": [
    "list(filter(lambda x: x.find('split')>=0, df_t.columns))"
   ]
  },
  {
   "cell_type": "code",
   "execution_count": null,
   "metadata": {},
   "outputs": [],
   "source": [
    "impute_cols = list(df_t.columns.values)\n",
    "impute_cols.remove('diabetes_mellitus')\n",
    "impute_cols.remove('encounter_id')\n",
    "impute_cols.remove('split_type')\n",
    "\n",
    "impt_t = impute_data(df_t[impute_cols], 'mice')"
   ]
  },
  {
   "cell_type": "markdown",
   "metadata": {},
   "source": [
    "### 3. Scaling"
   ]
  },
  {
   "cell_type": "code",
   "execution_count": null,
   "metadata": {},
   "outputs": [],
   "source": [
    "# TODO : different scalers?\n",
    "def scale_data(mx_t, mx_te, scl_type='minmax'):\n",
    "    if scl_type == 'minmax':\n",
    "        scaler = MinMaxScaler()\n",
    "    return scaler.fit_transform(mx_t), scaler.transform(mx_te)"
   ]
  },
  {
   "cell_type": "code",
   "execution_count": null,
   "metadata": {},
   "outputs": [],
   "source": [
    "sc_impt_tr, sc_impt_te = scale_data(impt_tr, impt_te, 'minmax')"
   ]
  },
  {
   "cell_type": "markdown",
   "metadata": {},
   "source": [
    "### 4. Save"
   ]
  },
  {
   "cell_type": "code",
   "execution_count": null,
   "metadata": {},
   "outputs": [],
   "source": [
    "sc_tr = pd.DataFrame(sc_impt_tr)\n",
    "sc_tr.columns = impute_cols\n",
    "sc_tr['encounter_id'] = df_tr.encounter_id\n",
    "sc_tr['diabetes_mellitus'] = df_tr.diabetes_mellitus\n",
    "\n",
    "sc_te = pd.DataFrame(sc_impt_te)\n",
    "sc_te.columns = impute_cols\n",
    "sc_te['encounter_id'] = df_te.encounter_id\n",
    "\n",
    "sc_tr.to_parquet('../dataset/train_.parquet')\n",
    "sc_te.to_parquet('../dataset/test_.parquet')"
   ]
  },
  {
   "cell_type": "code",
   "execution_count": null,
   "metadata": {},
   "outputs": [],
   "source": []
  }
 ],
 "metadata": {
  "kernelspec": {
   "display_name": "Python 3",
   "language": "python",
   "name": "python3"
  },
  "language_info": {
   "codemirror_mode": {
    "name": "ipython",
    "version": 3
   },
   "file_extension": ".py",
   "mimetype": "text/x-python",
   "name": "python",
   "nbconvert_exporter": "python",
   "pygments_lexer": "ipython3",
   "version": "3.7.6"
  }
 },
 "nbformat": 4,
 "nbformat_minor": 4
}
