{
 "metadata": {
  "language_info": {
   "codemirror_mode": {
    "name": "ipython",
    "version": 3
   },
   "file_extension": ".py",
   "mimetype": "text/x-python",
   "name": "python",
   "nbconvert_exporter": "python",
   "pygments_lexer": "ipython3",
   "version": "3.7.3-final"
  },
  "orig_nbformat": 2,
  "kernelspec": {
   "name": "python3",
   "display_name": "Python 3",
   "language": "python"
  }
 },
 "nbformat": 4,
 "nbformat_minor": 2,
 "cells": [
  {
   "cell_type": "code",
   "execution_count": 1,
   "metadata": {},
   "outputs": [],
   "source": [
    "import time\n",
    "import pandas as pd\n",
    "from sklearn.linear_model import Ridge, LinearRegression, RidgeCV, Lasso, BayesianRidge, SGDClassifier, RidgeClassifier, LogisticRegression\n",
    "from sklearn.svm import SVR, SVC\n",
    "from sklearn.neural_network import MLPClassifier\n",
    "from sklearn.neighbors import KNeighborsClassifier\n",
    "from sklearn.naive_bayes import GaussianNB\n",
    "from sklearn.tree import DecisionTreeClassifier, DecisionTreeRegressor\n",
    "from sklearn.ensemble import RandomForestClassifier, ExtraTreesClassifier, AdaBoostClassifier, GradientBoostingClassifier\n",
    "# HistGradientBoostingClassifier\n",
    "from sklearn.model_selection import train_test_split, GridSearchCV, RandomizedSearchCV\n",
    "from sklearn.metrics import roc_auc_score, classification_report, accuracy_score, recall_score"
   ]
  },
  {
   "cell_type": "code",
   "execution_count": 2,
   "metadata": {},
   "outputs": [],
   "source": [
    "df_tr = pd.read_parquet('../dataset/train.parquet') \n",
    "df_te = pd.read_parquet('../dataset/test.parquet')"
   ]
  },
  {
   "cell_type": "code",
   "execution_count": 3,
   "metadata": {},
   "outputs": [],
   "source": [
    "def training(model, X_train, y_train, X_test, y_test, model_name):\n",
    "    t1 = time.time()\n",
    "    \n",
    "    model.fit(X_train, y_train)\n",
    "    predicts = model.predict(X_test)\n",
    "\n",
    "    print(\"\\t\\t\\t--- Model:\", model_name,\"---\")\n",
    "    # if model_name in [\"Linear\",\"Ridge\",\"Lasso\",\"Bayesian Regression\"]:\n",
    "    #     roc = roc_auc_score(y_test, predicts)\n",
    "    #     print(\"ROC: \", roc,\"\\n\")\n",
    "    # else:\n",
    "    roc = roc_auc_score(y_test, predicts)\n",
    "    acc = accuracy_score(y_test, predicts)\n",
    "    rec = recall_score(y_test, predicts)\n",
    "    print(\"Accuracy: \", acc, \"\\t\",\"ROC: \",roc, \"Recall: \",rec,\"\\n\")\n",
    "    "
   ]
  },
  {
   "cell_type": "code",
   "execution_count": 4,
   "metadata": {},
   "outputs": [],
   "source": [
    "linear = LogisticRegression()\n",
    "ridge = RidgeClassifier(solver = \"auto\", alpha=.5)\n",
    "sgd = SGDClassifier(loss=\"hinge\", penalty=\"l2\", max_iter=5)\n",
    "# svr = SVR(kernel='rbf', C=1, epsilon=0.3)\n",
    "# svc = SVC()\n",
    "knc =  KNeighborsClassifier(n_neighbors=3)\n",
    "gnb = GaussianNB()\n",
    "tree = DecisionTreeClassifier(random_state=0, max_depth=10)\n",
    "rf = RandomForestClassifier(n_estimators=10)\n",
    "et = ExtraTreesClassifier(n_estimators=10, max_depth=None, min_samples_split=2, random_state=0)\n",
    "ada = AdaBoostClassifier(n_estimators=100)\n",
    "gradient = GradientBoostingClassifier(n_estimators=100, learning_rate=1.0, max_depth=1, random_state=0)\n",
    "mlp = MLPClassifier()\n",
    "# gbdt = HistGradientBoostingClassifier(min_samples_leaf=1,max_depth=2,learning_rate=1,max_iter=1)\n",
    "\n",
    "m = [linear,ridge,sgd,knc,gnb,tree,rf,et,ada,gradient,mlp]\n",
    "mn = [\"Linear\",\"Ridge\",\"SGD\",\n",
    "# \"Support Vector\",\n",
    "\"K Neighbors Classifier\",\n",
    "\"Gaussian Naive Bayes\",\"Decision Tree\",\"Random Forest\",\"Extra Trees\",\"AdaBoost\",\"GradientBoosting\",\"MLP\"]\n"
   ]
  },
  {
   "cell_type": "code",
   "execution_count": 5,
   "metadata": {},
   "outputs": [],
   "source": [
    "def ml_result(df_tr, df_te):\n",
    "    x_train, x_test = train_test_split(df_tr, train_size=0.8, test_size=0.2, shuffle=True)\n",
    "\n",
    "    cols = list(x_train.columns.values)\n",
    "    cols.remove('encounter_id')\n",
    "    cols.remove('diabetes_mellitus')\n",
    "\n",
    "    x_tr = x_train[cols].values\n",
    "    y_tr = x_train['diabetes_mellitus'].values\n",
    "    x_te = x_test[cols].values\n",
    "    y_te = x_test['diabetes_mellitus'].values\n",
    "\n",
    "    for i in range(0,len(m)):\n",
    "        training(model=m[i], X_train=x_tr, y_train=y_tr, X_test=x_te, y_test=y_te, model_name=mn[i])\n"
   ]
  },
  {
   "cell_type": "code",
   "execution_count": 6,
   "metadata": {},
   "outputs": [
    {
     "output_type": "stream",
     "name": "stdout",
     "text": [
      "\t\t\t--- Model: Linear ---\n",
      "Accuracy:  0.81399815611555 \t ROC:  0.6242529892065527 Recall:  0.29216705502778273 \n",
      "\n",
      "\t\t\t--- Model: Ridge ---\n",
      "Accuracy:  0.8114244007375537 \t ROC:  0.6063863870499347 Recall:  0.24753540060942822 \n",
      "\n",
      "\t\t\t--- Model: SGD ---\n",
      "Accuracy:  0.8076982175783651 \t ROC:  0.5890899062388539 Recall:  0.20648861803190535 \n",
      "\n",
      "\t\t\t--- Model: K Neighbors Classifier ---\n",
      "Accuracy:  0.7745082974800246 \t ROC:  0.5853049945881196 Recall:  0.25416741351496686 \n",
      "\n",
      "\t\t\t--- Model: Gaussian Naive Bayes ---\n",
      "Accuracy:  0.7541103257529195 \t ROC:  0.6461026849231811 Recall:  0.4570711597060405 \n",
      "\n",
      "\t\t\t--- Model: Decision Tree ---\n",
      "Accuracy:  0.8079287031346035 \t ROC:  0.6705756136328086 Recall:  0.4301846208998028 \n",
      "\n",
      "\t\t\t--- Model: Random Forest ---\n",
      "Accuracy:  0.8038567916410572 \t ROC:  0.6133672339436131 Recall:  0.27997849076895504 \n",
      "\n",
      "\t\t\t--- Model: Extra Trees ---\n",
      "Accuracy:  0.8047403196066379 \t ROC:  0.6006988712298453 Recall:  0.24359204158451336 \n",
      "\n",
      "\t\t\t--- Model: AdaBoost ---\n",
      "Accuracy:  0.821681007990166 \t ROC:  0.6703331663647388 Recall:  0.40544900519806415 \n",
      "\n",
      "\t\t\t--- Model: GradientBoosting ---\n",
      "Accuracy:  0.8239474492931776 \t ROC:  0.6713844445359567 Recall:  0.4043735436458147 \n",
      "\n",
      "\t\t\t--- Model: MLP ---\n",
      "Accuracy:  0.8199907805777504 \t ROC:  0.6936983437350499 Recall:  0.47266535221365835 \n",
      "\n"
     ]
    }
   ],
   "source": [
    "ml_result(df_tr, df_te)"
   ]
  },
  {
   "source": [
    "## Imputation: KNN"
   ],
   "cell_type": "markdown",
   "metadata": {}
  },
  {
   "cell_type": "code",
   "execution_count": 7,
   "metadata": {},
   "outputs": [],
   "source": [
    "df_tr_knn = pd.read_parquet('../dataset/train_scale_knn_.parquet') \n",
    "df_te_knn = pd.read_parquet('../dataset/test_scale_knn_.parquet')"
   ]
  },
  {
   "cell_type": "code",
   "execution_count": 8,
   "metadata": {},
   "outputs": [
    {
     "output_type": "stream",
     "name": "stdout",
     "text": [
      "\t\t\t--- Model: Linear ---\n",
      "Accuracy:  0.8176475107559926 \t ROC:  0.6378394186545819 Recall:  0.32306038344382726 \n",
      "\n",
      "\t\t\t--- Model: Ridge ---\n",
      "Accuracy:  0.8142286416717885 \t ROC:  0.6171634427743263 Recall:  0.2721734456190647 \n",
      "\n",
      "\t\t\t--- Model: SGD ---\n",
      "Accuracy:  0.8157652120467117 \t ROC:  0.6406150340462247 Recall:  0.33399032431463893 \n",
      "\n",
      "\t\t\t--- Model: Gaussian Naive Bayes ---\n",
      "Accuracy:  0.272280270436386 \t ROC:  0.5208194788245368 Recall:  0.9559218777996775 \n",
      "\n",
      "\t\t\t--- Model: Decision Tree ---\n",
      "Accuracy:  0.8078518746158574 \t ROC:  0.6749889087267392 Recall:  0.4423938362300663 \n",
      "\n",
      "\t\t\t--- Model: Random Forest ---\n",
      "Accuracy:  0.8056622618315918 \t ROC:  0.6040898899849603 Recall:  0.2512094606701308 \n",
      "\n",
      "\t\t\t--- Model: Extra Trees ---\n",
      "Accuracy:  0.7998617086662569 \t ROC:  0.5803998528750937 Recall:  0.1962013975989966 \n",
      "\n",
      "\t\t\t--- Model: AdaBoost ---\n",
      "Accuracy:  0.8227181929932391 \t ROC:  0.6750702451687218 Recall:  0.4165920086006092 \n",
      "\n",
      "\t\t\t--- Model: GradientBoosting ---\n",
      "Accuracy:  0.823140749846343 \t ROC:  0.6766420006141565 Recall:  0.42017559577136715 \n",
      "\n"
     ]
    }
   ],
   "source": [
    "ml_result(df_tr_knn, df_te_knn)"
   ]
  },
  {
   "source": [
    "## Imputation: Mean"
   ],
   "cell_type": "markdown",
   "metadata": {}
  },
  {
   "cell_type": "code",
   "execution_count": 9,
   "metadata": {},
   "outputs": [],
   "source": [
    "df_tr_mean = pd.read_parquet('../dataset/train_scale_mean_.parquet') \n",
    "df_te_mean = pd.read_parquet('../dataset/test_scale_mean_.parquet')"
   ]
  },
  {
   "cell_type": "code",
   "execution_count": 10,
   "metadata": {},
   "outputs": [
    {
     "output_type": "stream",
     "name": "stdout",
     "text": [
      "\t\t\t--- Model: Linear ---\n",
      "Accuracy:  0.8192224953902889 \t ROC:  0.6344986313189841 Recall:  0.311938151743977 \n",
      "\n",
      "\t\t\t--- Model: Ridge ---\n",
      "Accuracy:  0.8154963122311002 \t ROC:  0.6116372843359056 Recall:  0.255663430420712 \n",
      "\n",
      "\t\t\t--- Model: SGD ---\n",
      "Accuracy:  0.8148048555623848 \t ROC:  0.6104774494805372 Recall:  0.253685724559511 \n",
      "\n",
      "\t\t\t--- Model: Gaussian Naive Bayes ---\n",
      "Accuracy:  0.2720881991395206 \t ROC:  0.5236651649206607 Recall:  0.9629629629629629 \n",
      "\n",
      "\t\t\t--- Model: Decision Tree ---\n",
      "Accuracy:  0.8108097725875845 \t ROC:  0.6793646238950994 Recall:  0.44983818770226536 \n",
      "\n",
      "\t\t\t--- Model: Random Forest ---\n",
      "Accuracy:  0.8090427166564229 \t ROC:  0.6106107955318972 Recall:  0.2641136281912981 \n",
      "\n",
      "\t\t\t--- Model: Extra Trees ---\n",
      "Accuracy:  0.8069299323909035 \t ROC:  0.5889717492925597 Recall:  0.20837828119381518 \n",
      "\n",
      "\t\t\t--- Model: AdaBoost ---\n",
      "Accuracy:  0.8245620774431469 \t ROC:  0.6742295449247608 Recall:  0.41172240201366417 \n",
      "\n",
      "\t\t\t--- Model: GradientBoosting ---\n",
      "Accuracy:  0.8261754763368162 \t ROC:  0.6728330564000572 Recall:  0.40507011866235165 \n",
      "\n"
     ]
    }
   ],
   "source": [
    "ml_result(df_tr_mean, df_te_mean)"
   ]
  },
  {
   "source": [
    "## Imputation: Softimpute"
   ],
   "cell_type": "markdown",
   "metadata": {}
  },
  {
   "cell_type": "code",
   "execution_count": 11,
   "metadata": {},
   "outputs": [],
   "source": [
    "df_tr_soft = pd.read_parquet('../dataset/train_scale_mean_.parquet') \n",
    "df_te_soft = pd.read_parquet('../dataset/test_scale_mean_.parquet')"
   ]
  },
  {
   "cell_type": "code",
   "execution_count": 12,
   "metadata": {},
   "outputs": [
    {
     "output_type": "stream",
     "name": "stdout",
     "text": [
      "\t\t\t--- Model: Linear ---\n",
      "Accuracy:  0.8150737553779963 \t ROC:  0.6314716660144453 Recall:  0.30900981266726135 \n",
      "\n",
      "\t\t\t--- Model: Ridge ---\n",
      "Accuracy:  0.8123847572218807 \t ROC:  0.6117636803924001 Recall:  0.2594112399643176 \n",
      "\n",
      "\t\t\t--- Model: SGD ---\n",
      "Accuracy:  0.8085433312845728 \t ROC:  0.6041376469643408 Recall:  0.24513826940231936 \n",
      "\n",
      "\t\t\t--- Model: Gaussian Naive Bayes ---\n",
      "Accuracy:  0.2783497234173325 \t ROC:  0.5243736327533826 Recall:  0.9564674397859054 \n",
      "\n",
      "\t\t\t--- Model: Decision Tree ---\n",
      "Accuracy:  0.8083896742470805 \t ROC:  0.6791897100385801 Recall:  0.45227475468331846 \n",
      "\n",
      "\t\t\t--- Model: Random Forest ---\n",
      "Accuracy:  0.8005147510755992 \t ROC:  0.5970800090677768 Recall:  0.23978590544157002 \n",
      "\n",
      "\t\t\t--- Model: Extra Trees ---\n",
      "Accuracy:  0.8016671788567916 \t ROC:  0.58512751419111 Recall:  0.2048171275646744 \n",
      "\n",
      "\t\t\t--- Model: AdaBoost ---\n",
      "Accuracy:  0.8241011063306699 \t ROC:  0.6750901220581966 Recall:  0.4133809099018733 \n",
      "\n",
      "\t\t\t--- Model: GradientBoosting ---\n",
      "Accuracy:  0.8262138905961893 \t ROC:  0.6809026569101162 Recall:  0.4256913470115968 \n",
      "\n"
     ]
    }
   ],
   "source": [
    "ml_result(df_tr_soft, df_te_soft)"
   ]
  },
  {
   "cell_type": "code",
   "execution_count": null,
   "metadata": {},
   "outputs": [],
   "source": []
  }
 ]
}