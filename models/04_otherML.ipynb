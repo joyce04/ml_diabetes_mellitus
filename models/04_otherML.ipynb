{
 "metadata": {
  "language_info": {
   "codemirror_mode": {
    "name": "ipython",
    "version": 3
   },
   "file_extension": ".py",
   "mimetype": "text/x-python",
   "name": "python",
   "nbconvert_exporter": "python",
   "pygments_lexer": "ipython3",
   "version": "3.7.3-final"
  },
  "orig_nbformat": 2,
  "kernelspec": {
   "name": "python3",
   "display_name": "Python 3",
   "language": "python"
  }
 },
 "nbformat": 4,
 "nbformat_minor": 2,
 "cells": [
  {
   "cell_type": "code",
   "execution_count": 2,
   "metadata": {},
   "outputs": [],
   "source": [
    "import time\n",
    "import pandas as pd\n",
    "from sklearn.linear_model import Ridge, LinearRegression, RidgeCV, Lasso, BayesianRidge, SGDClassifier, RidgeClassifier, LogisticRegression\n",
    "from sklearn.svm import SVR, SVC\n",
    "from sklearn.neighbors import KNeighborsClassifier\n",
    "from sklearn.naive_bayes import GaussianNB\n",
    "from sklearn.tree import DecisionTreeClassifier, DecisionTreeRegressor\n",
    "from sklearn.ensemble import RandomForestClassifier, ExtraTreesClassifier, AdaBoostClassifier, GradientBoostingClassifier\n",
    "# HistGradientBoostingClassifier\n",
    "from sklearn.model_selection import train_test_split, GridSearchCV, RandomizedSearchCV\n",
    "from sklearn.metrics import roc_auc_score, classification_report, accuracy_score"
   ]
  },
  {
   "cell_type": "code",
   "execution_count": 3,
   "metadata": {},
   "outputs": [],
   "source": [
    "df_tr = pd.read_parquet('../dataset/train.parquet') \n",
    "df_te = pd.read_parquet('../dataset/test.parquet')"
   ]
  },
  {
   "cell_type": "code",
   "execution_count": 4,
   "metadata": {},
   "outputs": [],
   "source": [
    "def training(model, X_train, y_train, X_test, y_test, model_name):\n",
    "    t1 = time.time()\n",
    "    \n",
    "    model.fit(X_train, y_train)\n",
    "    predicts = model.predict(X_test)\n",
    "\n",
    "    print(\"\\t\\t\\t--- Model:\", model_name,\"---\")\n",
    "    # if model_name in [\"Linear\",\"Ridge\",\"Lasso\",\"Bayesian Regression\"]:\n",
    "    #     roc = roc_auc_score(y_test, predicts)\n",
    "    #     print(\"ROC: \", roc,\"\\n\")\n",
    "    # else:\n",
    "    acc = accuracy_score(y_test, predicts)\n",
    "    print(\"Accuracy: \", acc, \"\\n\")\n",
    "    "
   ]
  },
  {
   "cell_type": "code",
   "execution_count": 5,
   "metadata": {},
   "outputs": [],
   "source": [
    "linear = LogisticRegression()\n",
    "ridge = RidgeClassifier(solver = \"auto\", alpha=.5)\n",
    "sgd = SGDClassifier(loss=\"hinge\", penalty=\"l2\", max_iter=5)\n",
    "# svr = SVR(kernel='rbf', C=1, epsilon=0.3)\n",
    "# svc = SVC()\n",
    "# knc =  KNeighborsClassifier(n_neighbors=3)\n",
    "gnb = GaussianNB()\n",
    "tree = DecisionTreeClassifier(random_state=0, max_depth=10)\n",
    "rf = RandomForestClassifier(n_estimators=10)\n",
    "et = ExtraTreesClassifier(n_estimators=10, max_depth=None, min_samples_split=2, random_state=0)\n",
    "ada = AdaBoostClassifier(n_estimators=100)\n",
    "gradient = GradientBoostingClassifier(n_estimators=100, learning_rate=1.0, max_depth=1, random_state=0)\n",
    "# gbdt = HistGradientBoostingClassifier(min_samples_leaf=1,max_depth=2,learning_rate=1,max_iter=1)\n",
    "\n",
    "m = [linear,ridge,sgd,gnb,tree,rf,et,ada,gradient]\n",
    "mn = [\"Linear\",\"Ridge\",\"SGD\",\n",
    "# \"Support Vector\",\n",
    "# \"K Neighbors Classifier\",\n",
    "\"Gaussian Naive Bayes\",\"Decision Tree\",\"Random Forest\",\"Extra Trees\",\"AdaBoost\",\"GradientBoosting\"]\n"
   ]
  },
  {
   "cell_type": "code",
   "execution_count": 6,
   "metadata": {},
   "outputs": [],
   "source": [
    "def ml_result(df_tr, df_te):\n",
    "    x_train, x_test = train_test_split(df_tr, train_size=0.8, test_size=0.2, shuffle=True)\n",
    "\n",
    "    cols = list(x_train.columns.values)\n",
    "    cols.remove('encounter_id')\n",
    "    cols.remove('diabetes_mellitus')\n",
    "\n",
    "    x_tr = x_train[cols].values\n",
    "    y_tr = x_train['diabetes_mellitus'].values\n",
    "    x_te = x_test[cols].values\n",
    "    y_te = x_test['diabetes_mellitus'].values\n",
    "\n",
    "    for i in range(0,len(m)):\n",
    "        training(model=m[i], X_train=x_tr, y_train=y_tr, X_test=x_te, y_test=y_te, model_name=mn[i])\n"
   ]
  },
  {
   "cell_type": "code",
   "execution_count": 7,
   "metadata": {},
   "outputs": [
    {
     "output_type": "stream",
     "name": "stdout",
     "text": [
      "\t\t\t--- Model: Linear ---\n",
      "Accuracy:  0.8106561155500922 \n",
      "\n",
      "\t\t\t--- Model: Ridge ---\n",
      "Accuracy:  0.8067762753534112 \n",
      "\n",
      "\t\t\t--- Model: SGD ---\n",
      "Accuracy:  0.7945221266133989 \n",
      "\n",
      "\t\t\t--- Model: Gaussian Naive Bayes ---\n",
      "Accuracy:  0.7483481868469576 \n",
      "\n",
      "\t\t\t--- Model: Decision Tree ---\n",
      "Accuracy:  0.8098110018438844 \n",
      "\n",
      "\t\t\t--- Model: Random Forest ---\n",
      "Accuracy:  0.8044714197910264 \n",
      "\n",
      "\t\t\t--- Model: Extra Trees ---\n",
      "Accuracy:  0.8022433927473879 \n",
      "\n",
      "\t\t\t--- Model: AdaBoost ---\n",
      "Accuracy:  0.8203365089121082 \n",
      "\n",
      "\t\t\t--- Model: GradientBoosting ---\n",
      "Accuracy:  0.822679778733866 \n",
      "\n"
     ]
    }
   ],
   "source": [
    "ml_result(df_tr, df_te)"
   ]
  },
  {
   "source": [
    "## Imputation: KNN"
   ],
   "cell_type": "markdown",
   "metadata": {}
  },
  {
   "cell_type": "code",
   "execution_count": 8,
   "metadata": {},
   "outputs": [],
   "source": [
    "df_tr_knn = pd.read_parquet('../dataset/train_scale_knn_.parquet') \n",
    "df_te_knn = pd.read_parquet('../dataset/test_scale_knn_.parquet')"
   ]
  },
  {
   "cell_type": "code",
   "execution_count": 9,
   "metadata": {},
   "outputs": [
    {
     "output_type": "stream",
     "name": "stdout",
     "text": [
      "\t\t\t--- Model: Linear ---\n",
      "Accuracy:  0.8133066994468346 \n",
      "\n",
      "\t\t\t--- Model: Ridge ---\n",
      "Accuracy:  0.8078518746158574 \n",
      "\n",
      "\t\t\t--- Model: SGD ---\n",
      "Accuracy:  0.8161493546404426 \n",
      "\n",
      "\t\t\t--- Model: Gaussian Naive Bayes ---\n",
      "Accuracy:  0.28353564843269824 \n",
      "\n",
      "\t\t\t--- Model: Decision Tree ---\n",
      "Accuracy:  0.8053165334972342 \n",
      "\n",
      "\t\t\t--- Model: Random Forest ---\n",
      "Accuracy:  0.7954440688383528 \n",
      "\n",
      "\t\t\t--- Model: Extra Trees ---\n",
      "Accuracy:  0.7957129686539643 \n",
      "\n",
      "\t\t\t--- Model: AdaBoost ---\n",
      "Accuracy:  0.8193761524277812 \n",
      "\n",
      "\t\t\t--- Model: GradientBoosting ---\n",
      "Accuracy:  0.8227950215119852 \n",
      "\n"
     ]
    }
   ],
   "source": [
    "ml_result(df_tr_knn, df_te_knn)"
   ]
  },
  {
   "source": [
    "## Imputation: Mean"
   ],
   "cell_type": "markdown",
   "metadata": {}
  },
  {
   "cell_type": "code",
   "execution_count": 10,
   "metadata": {},
   "outputs": [],
   "source": [
    "df_tr_mean = pd.read_parquet('../dataset/train_scale_mean_.parquet') \n",
    "df_te_mean = pd.read_parquet('../dataset/test_scale_mean_.parquet')"
   ]
  },
  {
   "cell_type": "code",
   "execution_count": 11,
   "metadata": {},
   "outputs": [
    {
     "output_type": "stream",
     "name": "stdout",
     "text": [
      "\t\t\t--- Model: Linear ---\n",
      "Accuracy:  0.819798709280885 \n",
      "\n",
      "\t\t\t--- Model: Ridge ---\n",
      "Accuracy:  0.8164950829748002 \n",
      "\n",
      "\t\t\t--- Model: SGD ---\n",
      "Accuracy:  0.8143438844499078 \n",
      "\n",
      "\t\t\t--- Model: Gaussian Naive Bayes ---\n",
      "Accuracy:  0.2660955746773202 \n",
      "\n",
      "\t\t\t--- Model: Decision Tree ---\n",
      "Accuracy:  0.8096957590657652 \n",
      "\n",
      "\t\t\t--- Model: Random Forest ---\n",
      "Accuracy:  0.8068146896127842 \n",
      "\n",
      "\t\t\t--- Model: Extra Trees ---\n",
      "Accuracy:  0.8053933620159803 \n",
      "\n",
      "\t\t\t--- Model: AdaBoost ---\n",
      "Accuracy:  0.8259449907805777 \n",
      "\n",
      "\t\t\t--- Model: GradientBoosting ---\n",
      "Accuracy:  0.8304778733866011 \n",
      "\n"
     ]
    }
   ],
   "source": [
    "ml_result(df_tr_mean, df_te_mean)"
   ]
  },
  {
   "source": [
    "## Imputation: Softimpute"
   ],
   "cell_type": "markdown",
   "metadata": {}
  },
  {
   "cell_type": "code",
   "execution_count": 12,
   "metadata": {},
   "outputs": [],
   "source": [
    "df_tr_soft = pd.read_parquet('../dataset/train_scale_mean_.parquet') \n",
    "df_te_soft = pd.read_parquet('../dataset/test_scale_mean_.parquet')"
   ]
  },
  {
   "cell_type": "code",
   "execution_count": 13,
   "metadata": {},
   "outputs": [
    {
     "output_type": "stream",
     "name": "stdout",
     "text": [
      "\t\t\t--- Model: Linear ---\n",
      "Accuracy:  0.8147664413030117 \n",
      "\n",
      "\t\t\t--- Model: Ridge ---\n",
      "Accuracy:  0.8114244007375537 \n",
      "\n",
      "\t\t\t--- Model: SGD ---\n",
      "Accuracy:  0.8118853718500307 \n",
      "\n",
      "\t\t\t--- Model: Gaussian Naive Bayes ---\n",
      "Accuracy:  0.27884910878918256 \n",
      "\n",
      "\t\t\t--- Model: Decision Tree ---\n",
      "Accuracy:  0.8136140135218193 \n",
      "\n",
      "\t\t\t--- Model: Random Forest ---\n",
      "Accuracy:  0.8050860479409957 \n",
      "\n",
      "\t\t\t--- Model: Extra Trees ---\n",
      "Accuracy:  0.8010141364474493 \n",
      "\n",
      "\t\t\t--- Model: AdaBoost ---\n",
      "Accuracy:  0.8222188076213891 \n",
      "\n",
      "\t\t\t--- Model: GradientBoosting ---\n",
      "Accuracy:  0.8230639213275968 \n",
      "\n"
     ]
    }
   ],
   "source": [
    "ml_result(df_tr_soft, df_te_soft)"
   ]
  },
  {
   "cell_type": "code",
   "execution_count": null,
   "metadata": {},
   "outputs": [],
   "source": []
  }
 ]
}