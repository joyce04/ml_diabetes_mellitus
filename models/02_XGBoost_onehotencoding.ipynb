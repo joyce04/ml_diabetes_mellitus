{
 "cells": [
  {
   "cell_type": "code",
   "execution_count": 1,
   "metadata": {
    "id": "kc4IaHoz2k9j"
   },
   "outputs": [],
   "source": [
    "import random\n",
    "import pandas as pd\n",
    "import numpy as np\n",
    "import seaborn as sns\n",
    "import networkx as nx\n",
    "import matplotlib.pyplot as plt\n",
    "%matplotlib inline"
   ]
  },
  {
   "cell_type": "code",
   "execution_count": 2,
   "metadata": {
    "id": "vUlvaB7C2k96"
   },
   "outputs": [],
   "source": [
    "SEED = 1\n",
    "random.seed(SEED)\n",
    "np.random.seed(SEED)"
   ]
  },
  {
   "cell_type": "code",
   "execution_count": 3,
   "metadata": {
    "id": "_2Sn7XQfE7Sg"
   },
   "outputs": [],
   "source": [
    "s_tr = pd.read_parquet('../dataset/dummy_scale_train.parquet')\n",
    "s_te = pd.read_parquet('../dataset/dummy_scale_test.parquet')"
   ]
  },
  {
   "cell_type": "code",
   "execution_count": 4,
   "metadata": {
    "id": "WgiPkXUf2k-H"
   },
   "outputs": [],
   "source": [
    "from xgboost.sklearn import XGBClassifier\n",
    "import pandas as pd\n",
    "from sklearn.model_selection import train_test_split, GridSearchCV, RandomizedSearchCV\n",
    "from sklearn.metrics import roc_auc_score, classification_report"
   ]
  },
  {
   "cell_type": "code",
   "execution_count": 5,
   "metadata": {
    "id": "4lQS7fJR8YMr"
   },
   "outputs": [],
   "source": [
    "x_train, x_test = train_test_split(s_tr, train_size=0.8, test_size=0.2, shuffle=True)"
   ]
  },
  {
   "cell_type": "code",
   "execution_count": 6,
   "metadata": {
    "id": "YuvkvvMF8bfW"
   },
   "outputs": [],
   "source": [
    "cols = list(x_train.columns.values)\n",
    "cols.remove('encounter_id')\n",
    "cols.remove('diabetes_mellitus')\n",
    "\n",
    "x_tr = x_train[cols].values\n",
    "y_tr = x_train['diabetes_mellitus'].values\n",
    "x_te = x_test[cols].values\n",
    "y_te = x_test['diabetes_mellitus'].values"
   ]
  },
  {
   "cell_type": "code",
   "execution_count": 7,
   "metadata": {
    "colab": {
     "base_uri": "https://localhost:8080/"
    },
    "id": "H2wUUfOF8eu0",
    "outputId": "48ae756f-5b1b-4601-9fac-52c3bfec1fa8"
   },
   "outputs": [
    {
     "name": "stdout",
     "output_type": "stream",
     "text": [
      "Fitting 4 folds for each of 80 candidates, totalling 320 fits\n"
     ]
    },
    {
     "name": "stderr",
     "output_type": "stream",
     "text": [
      "/Users/grace/.pyenv/versions/3.7.2/envs/law_er/lib/python3.7/site-packages/xgboost/sklearn.py:888: UserWarning: The use of label encoder in XGBClassifier is deprecated and will be removed in a future release. To remove this warning, do the following: 1) Pass option use_label_encoder=False when constructing XGBClassifier object; and 2) Encode your labels (y) as integers starting with 0, i.e. 0, 1, 2, ..., [num_class - 1].\n",
      "  warnings.warn(label_encoder_deprecation_msg, UserWarning)\n"
     ]
    },
    {
     "name": "stdout",
     "output_type": "stream",
     "text": [
      "[08:00:00] WARNING: /Users/travis/build/dmlc/xgboost/src/learner.cc:1061: Starting in XGBoost 1.3.0, the default evaluation metric used with the objective 'binary:logistic' was changed from 'error' to 'logloss'. Explicitly set eval_metric if you'd like to restore the old behavior.\n"
     ]
    },
    {
     "data": {
      "text/plain": [
       "RandomizedSearchCV(cv=4,\n",
       "                   estimator=XGBClassifier(base_score=None, booster=None,\n",
       "                                           colsample_bylevel=None,\n",
       "                                           colsample_bynode=None,\n",
       "                                           colsample_bytree=None, gamma=None,\n",
       "                                           gpu_id=None, importance_type='gain',\n",
       "                                           interaction_constraints=None,\n",
       "                                           learning_rate=None,\n",
       "                                           max_delta_step=None, max_depth=None,\n",
       "                                           min_child_weight=None, missing=nan,\n",
       "                                           monotone_constraints=None,\n",
       "                                           n_estimators=100,...\n",
       "       0.6 , 0.65, 0.7 , 0.75, 0.8 , 0.85, 0.9 , 0.95, 1.  ]),\n",
       "                                         'max_depth': [4, 5, 6, 7, 8, 9],\n",
       "                                         'min_child_weight': array([5.        , 4.55555556, 4.11111111, 3.66666667, 3.22222222,\n",
       "       2.77777778, 2.33333333, 1.88888889, 1.44444444, 1.        ]),\n",
       "                                         'n_estimators': [100, 120, 140, 160,\n",
       "                                                          180, 200, 220, 240,\n",
       "                                                          260, 280],\n",
       "                                         'objective': ['binary:logistic']}],\n",
       "                   refit='f1',\n",
       "                   scoring={'f1': 'f1_macro', 'prec': 'precision',\n",
       "                            'roc': 'roc_auc_ovr'},\n",
       "                   verbose=1)"
      ]
     },
     "execution_count": 7,
     "metadata": {},
     "output_type": "execute_result"
    },
    {
     "name": "stdout",
     "output_type": "stream",
     "text": [
      "ROC test split =  0.862838681284858\n",
      "              precision    recall  f1-score   support\n",
      "\n",
      "         0.0     0.8682    0.9368    0.9012     20413\n",
      "         1.0     0.6780    0.4834    0.5644      5619\n",
      "\n",
      "    accuracy                         0.8389     26032\n",
      "   macro avg     0.7731    0.7101    0.7328     26032\n",
      "weighted avg     0.8271    0.8389    0.8285     26032\n",
      "\n",
      "{'objective': 'binary:logistic', 'n_estimators': 260, 'min_child_weight': 4.555555555555555, 'max_depth': 8, 'learning_rate': 0.1, 'gamma': 0.21052631578947367, 'booster': 'gbtree'}\n"
     ]
    }
   ],
   "source": [
    "tuned_parameters_xgb = [{'booster':['gbtree'], 'learning_rate':np.linspace(.05, 1, 20),\n",
    "                         'min_child_weight':np.linspace(5, 1, 10), 'n_estimators':list(range(100, 300, 20)),\n",
    "                    'objective':['binary:logistic'],'max_depth': list(range(4,10)), 'gamma': np.linspace(0,1.,20) }]\n",
    "\n",
    "scores = {'f1': 'f1_macro', 'roc':'roc_auc_ovr' , 'prec': 'precision'}     \n",
    "\n",
    "clf = RandomizedSearchCV(XGBClassifier(), tuned_parameters_xgb,\n",
    "                   scoring=scores, \n",
    "                   refit= \"f1\",\n",
    "                   cv=4,\n",
    "                   verbose=1,\n",
    "                   n_jobs=4,\n",
    "                   n_iter= 80,)\n",
    "\n",
    "clf.fit(x_tr, y_tr)\n",
    "# Validation\n",
    "pred = clf.best_estimator_.predict_proba(x_te)\n",
    "pred_bin = clf.best_estimator_.predict(x_te)\n",
    "roc = roc_auc_score(y_te, pred[:,1])\n",
    "print(\"ROC test split = \", roc)\n",
    "print(classification_report(y_te, pred_bin, digits=4 ))\n",
    "print(clf.best_params_)"
   ]
  },
  {
   "cell_type": "code",
   "execution_count": 8,
   "metadata": {
    "id": "3U-JyjPP8hHT"
   },
   "outputs": [
    {
     "data": {
      "text/plain": [
       "{'objective': 'binary:logistic',\n",
       " 'n_estimators': 260,\n",
       " 'min_child_weight': 4.555555555555555,\n",
       " 'max_depth': 8,\n",
       " 'learning_rate': 0.1,\n",
       " 'gamma': 0.21052631578947367,\n",
       " 'booster': 'gbtree'}"
      ]
     },
     "execution_count": 8,
     "metadata": {},
     "output_type": "execute_result"
    }
   ],
   "source": [
    "clf.best_params_"
   ]
  },
  {
   "cell_type": "code",
   "execution_count": 11,
   "metadata": {
    "id": "5ASRyAcH8lyT"
   },
   "outputs": [
    {
     "name": "stderr",
     "output_type": "stream",
     "text": [
      "/Users/grace/.pyenv/versions/3.7.2/envs/law_er/lib/python3.7/site-packages/xgboost/sklearn.py:888: UserWarning: The use of label encoder in XGBClassifier is deprecated and will be removed in a future release. To remove this warning, do the following: 1) Pass option use_label_encoder=False when constructing XGBClassifier object; and 2) Encode your labels (y) as integers starting with 0, i.e. 0, 1, 2, ..., [num_class - 1].\n",
      "  warnings.warn(label_encoder_deprecation_msg, UserWarning)\n"
     ]
    },
    {
     "name": "stdout",
     "output_type": "stream",
     "text": [
      "[08:30:51] WARNING: /Users/travis/build/dmlc/xgboost/src/learner.cc:1061: Starting in XGBoost 1.3.0, the default evaluation metric used with the objective 'binary:logistic' was changed from 'error' to 'logloss'. Explicitly set eval_metric if you'd like to restore the old behavior.\n"
     ]
    },
    {
     "data": {
      "text/plain": [
       "XGBClassifier(base_score=0.5, booster='gbtree', colsample_bylevel=1,\n",
       "              colsample_bynode=1, colsample_bytree=1, gamma=0.21052631578947367,\n",
       "              gpu_id=-1, importance_type='gain', interaction_constraints='',\n",
       "              learning_rate=0.1, max_delta_step=0, max_depth=8,\n",
       "              min_child_weight=4.555555555555555, missing=nan,\n",
       "              monotone_constraints='()', n_estimators=260, n_jobs=8,\n",
       "              num_parallel_tree=1, random_state=0, reg_alpha=0, reg_lambda=1,\n",
       "              scale_pos_weight=1, subsample=1, tree_method='exact',\n",
       "              validate_parameters=1, verbosity=None)"
      ]
     },
     "execution_count": 11,
     "metadata": {},
     "output_type": "execute_result"
    }
   ],
   "source": [
    "model = XGBClassifier(**clf.best_params_)\n",
    "model.fit(s_tr[cols], s_tr['diabetes_mellitus'].values)"
   ]
  },
  {
   "cell_type": "code",
   "execution_count": null,
   "metadata": {
    "id": "TNchW2wyNgb1"
   },
   "outputs": [],
   "source": [
    "# with open('/content/drive/MyDrive/dataset/best_xgboost.txt', 'w') as file:\n",
    "#   file.write(clf.best_params_)\n",
    "# file.close()"
   ]
  },
  {
   "cell_type": "code",
   "execution_count": 12,
   "metadata": {
    "id": "Tizps9BS8phU"
   },
   "outputs": [],
   "source": [
    "y_pred = model.predict_proba(s_te[cols])"
   ]
  },
  {
   "cell_type": "code",
   "execution_count": 13,
   "metadata": {},
   "outputs": [],
   "source": [
    "encounter_ids = pd.read_csv('../dataset/WiDS2021/UnlabeledWiDS2021.csv')[['encounter_id']].values\n",
    "pd.DataFrame.from_dict({'encounter_id':encounter_ids[:, 0], \n",
    "                        'diabetes_mellitus': y_pred[:, 1]}).set_index(['encounter_id']).to_csv('../dataset/xgb_predictions_onehot.csv')"
   ]
  },
  {
   "cell_type": "code",
   "execution_count": null,
   "metadata": {},
   "outputs": [],
   "source": []
  }
 ],
 "metadata": {
  "colab": {
   "name": "02_data_exploration_preprocessing_dummy.ipynb",
   "provenance": []
  },
  "kernelspec": {
   "display_name": "Python 3",
   "language": "python",
   "name": "python3"
  },
  "language_info": {
   "codemirror_mode": {
    "name": "ipython",
    "version": 3
   },
   "file_extension": ".py",
   "mimetype": "text/x-python",
   "name": "python",
   "nbconvert_exporter": "python",
   "pygments_lexer": "ipython3",
   "version": "3.7.2"
  }
 },
 "nbformat": 4,
 "nbformat_minor": 1
}
